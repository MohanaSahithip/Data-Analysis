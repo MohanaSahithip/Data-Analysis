{
 "cells": [
  {
   "cell_type": "markdown",
   "id": "28244d94",
   "metadata": {},
   "source": [
    "## Part 0: Reading the Data"
   ]
  },
  {
   "cell_type": "code",
   "execution_count": 1,
   "id": "d752ccc2",
   "metadata": {},
   "outputs": [],
   "source": [
    "import pandas as pd\n",
    "import numpy as np"
   ]
  },
  {
   "cell_type": "code",
   "execution_count": 2,
   "id": "fb16a271",
   "metadata": {},
   "outputs": [],
   "source": [
    "#take in input from excel\n",
    "input = pd.read_excel('C:\\\\Users\\pmoha\\Desktop\\BE. 2nd year\\data analyst\\Internship apply\\Fittlyf\\Fytlyff_DS_Interview.xlsx')"
   ]
  },
  {
   "cell_type": "code",
   "execution_count": 3,
   "id": "7575e4ba",
   "metadata": {},
   "outputs": [],
   "source": [
    "#convert into dataframe\n",
    "df= pd.DataFrame(input)"
   ]
  },
  {
   "cell_type": "code",
   "execution_count": 4,
   "id": "054e5156",
   "metadata": {},
   "outputs": [
    {
     "data": {
      "text/html": [
       "<div>\n",
       "<style scoped>\n",
       "    .dataframe tbody tr th:only-of-type {\n",
       "        vertical-align: middle;\n",
       "    }\n",
       "\n",
       "    .dataframe tbody tr th {\n",
       "        vertical-align: top;\n",
       "    }\n",
       "\n",
       "    .dataframe thead th {\n",
       "        text-align: right;\n",
       "    }\n",
       "</style>\n",
       "<table border=\"1\" class=\"dataframe\">\n",
       "  <thead>\n",
       "    <tr style=\"text-align: right;\">\n",
       "      <th></th>\n",
       "      <th>Year</th>\n",
       "      <th>Month</th>\n",
       "      <th>Laptop/Desktop</th>\n",
       "      <th>Type_of_Customers?</th>\n",
       "      <th>Coming from</th>\n",
       "      <th>Place_in_India</th>\n",
       "      <th>Level 1</th>\n",
       "      <th>Level 2</th>\n",
       "      <th>Level 3</th>\n",
       "      <th>Level 4</th>\n",
       "    </tr>\n",
       "  </thead>\n",
       "  <tbody>\n",
       "    <tr>\n",
       "      <th>0</th>\n",
       "      <td>2020</td>\n",
       "      <td>Jan</td>\n",
       "      <td>Desktop_Website</td>\n",
       "      <td>Existing_Customer</td>\n",
       "      <td>Came_From_LinkedIn</td>\n",
       "      <td>Bengaluru</td>\n",
       "      <td>NaN</td>\n",
       "      <td>NaN</td>\n",
       "      <td>56892</td>\n",
       "      <td>17178</td>\n",
       "    </tr>\n",
       "    <tr>\n",
       "      <th>1</th>\n",
       "      <td>2020</td>\n",
       "      <td>Jan</td>\n",
       "      <td>Desktop_Website</td>\n",
       "      <td>Existing_Customer</td>\n",
       "      <td>Came_From_LinkedIn</td>\n",
       "      <td>Hyderabad</td>\n",
       "      <td>NaN</td>\n",
       "      <td>NaN</td>\n",
       "      <td>41460</td>\n",
       "      <td>11916</td>\n",
       "    </tr>\n",
       "    <tr>\n",
       "      <th>2</th>\n",
       "      <td>2020</td>\n",
       "      <td>Jan</td>\n",
       "      <td>Desktop_Website</td>\n",
       "      <td>Existing_Customer</td>\n",
       "      <td>Came_From_LinkedIn</td>\n",
       "      <td>Dehradun</td>\n",
       "      <td>NaN</td>\n",
       "      <td>NaN</td>\n",
       "      <td>55561</td>\n",
       "      <td>19461</td>\n",
       "    </tr>\n",
       "    <tr>\n",
       "      <th>3</th>\n",
       "      <td>2020</td>\n",
       "      <td>Jan</td>\n",
       "      <td>Desktop_Website</td>\n",
       "      <td>Existing_Customer</td>\n",
       "      <td>Came_From_LinkedIn</td>\n",
       "      <td>Indore</td>\n",
       "      <td>NaN</td>\n",
       "      <td>NaN</td>\n",
       "      <td>320923</td>\n",
       "      <td>110667</td>\n",
       "    </tr>\n",
       "    <tr>\n",
       "      <th>4</th>\n",
       "      <td>2020</td>\n",
       "      <td>Jan</td>\n",
       "      <td>Desktop_Website</td>\n",
       "      <td>Existing_Customer</td>\n",
       "      <td>Came_From_LinkedIn</td>\n",
       "      <td>Pune</td>\n",
       "      <td>NaN</td>\n",
       "      <td>NaN</td>\n",
       "      <td>220937</td>\n",
       "      <td>46033</td>\n",
       "    </tr>\n",
       "    <tr>\n",
       "      <th>...</th>\n",
       "      <td>...</td>\n",
       "      <td>...</td>\n",
       "      <td>...</td>\n",
       "      <td>...</td>\n",
       "      <td>...</td>\n",
       "      <td>...</td>\n",
       "      <td>...</td>\n",
       "      <td>...</td>\n",
       "      <td>...</td>\n",
       "      <td>...</td>\n",
       "    </tr>\n",
       "    <tr>\n",
       "      <th>2155</th>\n",
       "      <td>2022</td>\n",
       "      <td>Dec</td>\n",
       "      <td>Laptop_Website</td>\n",
       "      <td>New_Customer</td>\n",
       "      <td>Unidentified_Sources</td>\n",
       "      <td>Bengaluru</td>\n",
       "      <td>67299.0</td>\n",
       "      <td>21255.0</td>\n",
       "      <td>6984</td>\n",
       "      <td>1882</td>\n",
       "    </tr>\n",
       "    <tr>\n",
       "      <th>2156</th>\n",
       "      <td>2022</td>\n",
       "      <td>Dec</td>\n",
       "      <td>Laptop_Website</td>\n",
       "      <td>New_Customer</td>\n",
       "      <td>Unidentified_Sources</td>\n",
       "      <td>Hyderabad</td>\n",
       "      <td>430294.0</td>\n",
       "      <td>156510.0</td>\n",
       "      <td>46676</td>\n",
       "      <td>16703</td>\n",
       "    </tr>\n",
       "    <tr>\n",
       "      <th>2157</th>\n",
       "      <td>2022</td>\n",
       "      <td>Dec</td>\n",
       "      <td>Laptop_Website</td>\n",
       "      <td>New_Customer</td>\n",
       "      <td>Unidentified_Sources</td>\n",
       "      <td>Dehradun</td>\n",
       "      <td>48713.0</td>\n",
       "      <td>27770.0</td>\n",
       "      <td>7515</td>\n",
       "      <td>2089</td>\n",
       "    </tr>\n",
       "    <tr>\n",
       "      <th>2158</th>\n",
       "      <td>2022</td>\n",
       "      <td>Dec</td>\n",
       "      <td>Laptop_Website</td>\n",
       "      <td>New_Customer</td>\n",
       "      <td>Unidentified_Sources</td>\n",
       "      <td>Indore</td>\n",
       "      <td>593021.0</td>\n",
       "      <td>310836.0</td>\n",
       "      <td>161575</td>\n",
       "      <td>78465</td>\n",
       "    </tr>\n",
       "    <tr>\n",
       "      <th>2159</th>\n",
       "      <td>2022</td>\n",
       "      <td>Dec</td>\n",
       "      <td>Laptop_Website</td>\n",
       "      <td>New_Customer</td>\n",
       "      <td>Unidentified_Sources</td>\n",
       "      <td>Pune</td>\n",
       "      <td>372897.0</td>\n",
       "      <td>123057.0</td>\n",
       "      <td>48802</td>\n",
       "      <td>19441</td>\n",
       "    </tr>\n",
       "  </tbody>\n",
       "</table>\n",
       "<p>2160 rows × 10 columns</p>\n",
       "</div>"
      ],
      "text/plain": [
       "      Year Month   Laptop/Desktop Type_of_Customers?           Coming from  \\\n",
       "0     2020   Jan  Desktop_Website  Existing_Customer    Came_From_LinkedIn   \n",
       "1     2020   Jan  Desktop_Website  Existing_Customer    Came_From_LinkedIn   \n",
       "2     2020   Jan  Desktop_Website  Existing_Customer    Came_From_LinkedIn   \n",
       "3     2020   Jan  Desktop_Website  Existing_Customer    Came_From_LinkedIn   \n",
       "4     2020   Jan  Desktop_Website  Existing_Customer    Came_From_LinkedIn   \n",
       "...    ...   ...              ...                ...                   ...   \n",
       "2155  2022   Dec   Laptop_Website       New_Customer  Unidentified_Sources   \n",
       "2156  2022   Dec   Laptop_Website       New_Customer  Unidentified_Sources   \n",
       "2157  2022   Dec   Laptop_Website       New_Customer  Unidentified_Sources   \n",
       "2158  2022   Dec   Laptop_Website       New_Customer  Unidentified_Sources   \n",
       "2159  2022   Dec   Laptop_Website       New_Customer  Unidentified_Sources   \n",
       "\n",
       "     Place_in_India   Level 1   Level 2  Level 3  Level 4  \n",
       "0         Bengaluru       NaN       NaN    56892    17178  \n",
       "1         Hyderabad       NaN       NaN    41460    11916  \n",
       "2          Dehradun       NaN       NaN    55561    19461  \n",
       "3            Indore       NaN       NaN   320923   110667  \n",
       "4              Pune       NaN       NaN   220937    46033  \n",
       "...             ...       ...       ...      ...      ...  \n",
       "2155      Bengaluru   67299.0   21255.0     6984     1882  \n",
       "2156      Hyderabad  430294.0  156510.0    46676    16703  \n",
       "2157       Dehradun   48713.0   27770.0     7515     2089  \n",
       "2158         Indore  593021.0  310836.0   161575    78465  \n",
       "2159           Pune  372897.0  123057.0    48802    19441  \n",
       "\n",
       "[2160 rows x 10 columns]"
      ]
     },
     "execution_count": 4,
     "metadata": {},
     "output_type": "execute_result"
    }
   ],
   "source": [
    "df"
   ]
  },
  {
   "cell_type": "code",
   "execution_count": 5,
   "id": "d95fd7df",
   "metadata": {},
   "outputs": [
    {
     "data": {
      "text/plain": [
       "Index(['Year', 'Month', 'Laptop/Desktop', 'Type_of_Customers?', 'Coming from',\n",
       "       'Place_in_India', 'Level 1', 'Level 2', 'Level 3', 'Level 4'],\n",
       "      dtype='object')"
      ]
     },
     "execution_count": 5,
     "metadata": {},
     "output_type": "execute_result"
    }
   ],
   "source": [
    "#different columns present in input\n",
    "df.columns"
   ]
  },
  {
   "cell_type": "code",
   "execution_count": 6,
   "id": "2f6e0627",
   "metadata": {},
   "outputs": [
    {
     "data": {
      "text/plain": [
       "Year                    int64\n",
       "Month                  object\n",
       "Laptop/Desktop         object\n",
       "Type_of_Customers?     object\n",
       "Coming from            object\n",
       "Place_in_India         object\n",
       "Level 1               float64\n",
       "Level 2               float64\n",
       "Level 3                 int64\n",
       "Level 4                 int64\n",
       "dtype: object"
      ]
     },
     "execution_count": 6,
     "metadata": {},
     "output_type": "execute_result"
    }
   ],
   "source": [
    "#columns and their datatypes\n",
    "df.dtypes"
   ]
  },
  {
   "cell_type": "code",
   "execution_count": 7,
   "id": "54cd93a8",
   "metadata": {},
   "outputs": [
    {
     "data": {
      "text/plain": [
       "array(['Bengaluru', 'Hyderabad', 'Dehradun', 'Indore', 'Pune'],\n",
       "      dtype=object)"
      ]
     },
     "execution_count": 7,
     "metadata": {},
     "output_type": "execute_result"
    }
   ],
   "source": [
    "#Different cities of India from which the page was accessed\n",
    "df.Place_in_India.unique()"
   ]
  },
  {
   "cell_type": "code",
   "execution_count": 8,
   "id": "2cf07ed0",
   "metadata": {},
   "outputs": [
    {
     "data": {
      "text/plain": [
       "Year                  False\n",
       "Month                 False\n",
       "Laptop/Desktop        False\n",
       "Type_of_Customers?    False\n",
       "Coming from           False\n",
       "Place_in_India        False\n",
       "Level 1                True\n",
       "Level 2                True\n",
       "Level 3               False\n",
       "Level 4               False\n",
       "dtype: bool"
      ]
     },
     "execution_count": 8,
     "metadata": {},
     "output_type": "execute_result"
    }
   ],
   "source": [
    "#columns having some values missing in them\n",
    "df.isna().any()"
   ]
  },
  {
   "cell_type": "code",
   "execution_count": 9,
   "id": "ba9a96b0",
   "metadata": {},
   "outputs": [
    {
     "data": {
      "text/plain": [
       "Index(['Level 1', 'Level 2'], dtype='object')"
      ]
     },
     "execution_count": 9,
     "metadata": {},
     "output_type": "execute_result"
    }
   ],
   "source": [
    "df.columns[df.isna().any()]"
   ]
  },
  {
   "cell_type": "code",
   "execution_count": 10,
   "id": "49b30612",
   "metadata": {},
   "outputs": [
    {
     "name": "stdout",
     "output_type": "stream",
     "text": [
      "Number of new customers who are from Pune and came from LinkedIn = 72\n",
      "      Year Month   Laptop/Desktop Type_of_Customers?         Coming from  \\\n",
      "19    2020   Jan  Desktop_Website       New_Customer  Came_From_LinkedIn   \n",
      "49    2020   Jan   Laptop_Website       New_Customer  Came_From_LinkedIn   \n",
      "79    2020   Feb  Desktop_Website       New_Customer  Came_From_LinkedIn   \n",
      "109   2020   Feb   Laptop_Website       New_Customer  Came_From_LinkedIn   \n",
      "139   2020   Mar  Desktop_Website       New_Customer  Came_From_LinkedIn   \n",
      "...    ...   ...              ...                ...                 ...   \n",
      "2029  2022   Oct   Laptop_Website       New_Customer  Came_From_LinkedIn   \n",
      "2059  2022   Nov  Desktop_Website       New_Customer  Came_From_LinkedIn   \n",
      "2089  2022   Nov   Laptop_Website       New_Customer  Came_From_LinkedIn   \n",
      "2119  2022   Dec  Desktop_Website       New_Customer  Came_From_LinkedIn   \n",
      "2149  2022   Dec   Laptop_Website       New_Customer  Came_From_LinkedIn   \n",
      "\n",
      "     Place_in_India   Level 1   Level 2  Level 3  Level 4  \n",
      "19             Pune  383260.0  305902.0   172827   122285  \n",
      "49             Pune  480675.0  347596.0   186713   135275  \n",
      "79             Pune  321335.0  254082.0   134654    92966  \n",
      "109            Pune  426286.0  304066.0   156062   108686  \n",
      "139            Pune  316436.0  248729.0   129296    89311  \n",
      "...             ...       ...       ...      ...      ...  \n",
      "2029           Pune  472184.0  243803.0    97067    62583  \n",
      "2059           Pune  361255.0  189930.0    93589    64608  \n",
      "2089           Pune  651079.0  366626.0   185650   110735  \n",
      "2119           Pune  324090.0  168545.0    83423    56517  \n",
      "2149           Pune  573975.0  309110.0   122134    79401  \n",
      "\n",
      "[72 rows x 10 columns]\n"
     ]
    }
   ],
   "source": [
    "#the number of new customers who are from Pune and came from LinkedIn\n",
    "newdf=df.query(\"`Type_of_Customers?`=='New_Customer' & `Place_in_India`=='Pune' & `Coming from`=='Came_From_LinkedIn'\",inplace=False)\n",
    "print(\"Number of new customers who are from Pune and came from LinkedIn =\" , len(newdf))\n",
    "print(newdf)"
   ]
  },
  {
   "cell_type": "markdown",
   "id": "4820f858",
   "metadata": {},
   "source": [
    "What type of company this dataset belongs to? \n",
    "\n",
    "\n",
    "I believe this dataset belongs to a company handling its functionalities on a website. \n",
    "Regardless of your business or profession, a website can generate opportunities, promote goodwill among customers and create prospects for both service providers and customers. With a concise and specific marketing message, your customer base can multiply tenfold within minutes. \n",
    "Also, help us maintain an easy database of the customers and transactions.\n"
   ]
  },
  {
   "cell_type": "markdown",
   "id": "ce5e2524",
   "metadata": {},
   "source": [
    "Suppose that this dataset is for a website like Flipkart, what could be the possible definitions of the columns Level 1, 2, 3, 4 in the given dataset? Do you observe any pattern?\n",
    "\n",
    "\n",
    "Real time data is provided in various levels (level 1, level 2, level 3 and Level 4) across segments such as Capital Market, Futures & Options, Currency Derivative and Wholesale Debt Market. Level 1 provides best bid and ask price; Level 2 provides market depth data upto 5 best bid and ask prices and Level 3 provides market depth data unto 20 best bid and ask prices.Level 4 data offers full order book. "
   ]
  },
  {
   "cell_type": "markdown",
   "id": "348009fe",
   "metadata": {},
   "source": [
    "## Part 1: Data cleaning"
   ]
  },
  {
   "cell_type": "code",
   "execution_count": 11,
   "id": "7fdecf23",
   "metadata": {},
   "outputs": [
    {
     "data": {
      "text/plain": [
       "0       False\n",
       "1       False\n",
       "2       False\n",
       "3       False\n",
       "4       False\n",
       "        ...  \n",
       "2155    False\n",
       "2156    False\n",
       "2157    False\n",
       "2158    False\n",
       "2159    False\n",
       "Length: 2160, dtype: bool"
      ]
     },
     "execution_count": 11,
     "metadata": {},
     "output_type": "execute_result"
    }
   ],
   "source": [
    "df.duplicated()"
   ]
  },
  {
   "cell_type": "code",
   "execution_count": 12,
   "id": "12317dc1",
   "metadata": {},
   "outputs": [
    {
     "name": "stdout",
     "output_type": "stream",
     "text": [
      "      Year Month   Laptop/Desktop Type_of_Customers?           Coming from  \\\n",
      "0     2020   Jan  Desktop_Website  Existing_Customer    Came_From_LinkedIn   \n",
      "1     2020   Jan  Desktop_Website  Existing_Customer    Came_From_LinkedIn   \n",
      "2     2020   Jan  Desktop_Website  Existing_Customer    Came_From_LinkedIn   \n",
      "3     2020   Jan  Desktop_Website  Existing_Customer    Came_From_LinkedIn   \n",
      "4     2020   Jan  Desktop_Website  Existing_Customer    Came_From_LinkedIn   \n",
      "...    ...   ...              ...                ...                   ...   \n",
      "2155  2022   Dec   Laptop_Website       New_Customer  Unidentified_Sources   \n",
      "2156  2022   Dec   Laptop_Website       New_Customer  Unidentified_Sources   \n",
      "2157  2022   Dec   Laptop_Website       New_Customer  Unidentified_Sources   \n",
      "2158  2022   Dec   Laptop_Website       New_Customer  Unidentified_Sources   \n",
      "2159  2022   Dec   Laptop_Website       New_Customer  Unidentified_Sources   \n",
      "\n",
      "     Place_in_India   Level 1   Level 2  Level 3  Level 4  \n",
      "0         Bengaluru       NaN       NaN    56892    17178  \n",
      "1         Hyderabad       NaN       NaN    41460    11916  \n",
      "2          Dehradun       NaN       NaN    55561    19461  \n",
      "3            Indore       NaN       NaN   320923   110667  \n",
      "4              Pune       NaN       NaN   220937    46033  \n",
      "...             ...       ...       ...      ...      ...  \n",
      "2155      Bengaluru   67299.0   21255.0     6984     1882  \n",
      "2156      Hyderabad  430294.0  156510.0    46676    16703  \n",
      "2157       Dehradun   48713.0   27770.0     7515     2089  \n",
      "2158         Indore  593021.0  310836.0   161575    78465  \n",
      "2159           Pune  372897.0  123057.0    48802    19441  \n",
      "\n",
      "[2160 rows x 10 columns]\n"
     ]
    }
   ],
   "source": [
    "df.drop_duplicates(subset=None, keep='first', inplace=True, ignore_index=True)\n",
    "print(df)"
   ]
  },
  {
   "cell_type": "code",
   "execution_count": 13,
   "id": "30b0237a",
   "metadata": {},
   "outputs": [],
   "source": [
    "def data_cleaning(df):\n",
    "    #replace NaN with average value of column Level 1\n",
    "    df['Level 1'].fillna(value=df['Level 1'].mean(),inplace=True)\n",
    "    df['Level 2'].fillna(value=df['Level 2'].mean(),inplace=True)\n",
    "    \n",
    "    #Creating a column inc/dec perscentage at the end\n",
    "    if('inc/dec percentage' in df.columns):\n",
    "        df.drop([\"inc/dec percentage\"],axis=1,inplace=True)\n",
    "    df[\"inc/dec percentage\"]=df.apply(lambda x: (x[\"Level 1\"] - x[\"Level 4\"]) / x[\"Level 1\"] * 100,axis=1)\n",
    "       \n",
    "    #replace months in column B \n",
    "    dict_mon={'Jan':'January','Feb':'February','Mar':'March','Apr':'April','May':'May','Jun':'June','Jul':'July','Aug':'August','Sep':'September','Oct':'October','Nov':'November','Dec':'December'}\n",
    "    #df['Month']=df['Month'].apply((lambda x: x.replace(key,value) for key,value in dict_mon.items()))\n",
    "    df.replace({'Month':dict_mon},inplace=True)\n",
    "    \n",
    "    #replace Coming from values\n",
    "    df.replace({'Coming from':{'Came_From_LinkedIn':'From LinkedIn','Landed_Directly':'Direct_traffic'}},inplace=True)\n",
    "    \n",
    "    print(df)\n",
    "    pass"
   ]
  },
  {
   "cell_type": "code",
   "execution_count": 14,
   "id": "9c561898",
   "metadata": {},
   "outputs": [
    {
     "name": "stdout",
     "output_type": "stream",
     "text": [
      "      Year     Month   Laptop/Desktop Type_of_Customers?  \\\n",
      "0     2020   January  Desktop_Website  Existing_Customer   \n",
      "1     2020   January  Desktop_Website  Existing_Customer   \n",
      "2     2020   January  Desktop_Website  Existing_Customer   \n",
      "3     2020   January  Desktop_Website  Existing_Customer   \n",
      "4     2020   January  Desktop_Website  Existing_Customer   \n",
      "...    ...       ...              ...                ...   \n",
      "2155  2022  December   Laptop_Website       New_Customer   \n",
      "2156  2022  December   Laptop_Website       New_Customer   \n",
      "2157  2022  December   Laptop_Website       New_Customer   \n",
      "2158  2022  December   Laptop_Website       New_Customer   \n",
      "2159  2022  December   Laptop_Website       New_Customer   \n",
      "\n",
      "               Coming from Place_in_India        Level 1        Level 2  \\\n",
      "0            From LinkedIn      Bengaluru  783870.222017  358215.416281   \n",
      "1            From LinkedIn      Hyderabad  783870.222017  358215.416281   \n",
      "2            From LinkedIn       Dehradun  783870.222017  358215.416281   \n",
      "3            From LinkedIn         Indore  783870.222017  358215.416281   \n",
      "4            From LinkedIn           Pune  783870.222017  358215.416281   \n",
      "...                    ...            ...            ...            ...   \n",
      "2155  Unidentified_Sources      Bengaluru   67299.000000   21255.000000   \n",
      "2156  Unidentified_Sources      Hyderabad  430294.000000  156510.000000   \n",
      "2157  Unidentified_Sources       Dehradun   48713.000000   27770.000000   \n",
      "2158  Unidentified_Sources         Indore  593021.000000  310836.000000   \n",
      "2159  Unidentified_Sources           Pune  372897.000000  123057.000000   \n",
      "\n",
      "      Level 3  Level 4  inc/dec percentage  \n",
      "0       56892    17178           97.808566  \n",
      "1       41460    11916           98.479850  \n",
      "2       55561    19461           97.517319  \n",
      "3      320923   110667           85.881974  \n",
      "4      220937    46033           94.127472  \n",
      "...       ...      ...                 ...  \n",
      "2155     6984     1882           97.203525  \n",
      "2156    46676    16703           96.118235  \n",
      "2157     7515     2089           95.711617  \n",
      "2158   161575    78465           86.768597  \n",
      "2159    48802    19441           94.786496  \n",
      "\n",
      "[2160 rows x 11 columns]\n"
     ]
    }
   ],
   "source": [
    "#calling the function data_cleaning\n",
    "data_cleaning(df)"
   ]
  },
  {
   "cell_type": "code",
   "execution_count": 15,
   "id": "d89a1b9c",
   "metadata": {},
   "outputs": [
    {
     "data": {
      "text/html": [
       "<div>\n",
       "<style scoped>\n",
       "    .dataframe tbody tr th:only-of-type {\n",
       "        vertical-align: middle;\n",
       "    }\n",
       "\n",
       "    .dataframe tbody tr th {\n",
       "        vertical-align: top;\n",
       "    }\n",
       "\n",
       "    .dataframe thead th {\n",
       "        text-align: right;\n",
       "    }\n",
       "</style>\n",
       "<table border=\"1\" class=\"dataframe\">\n",
       "  <thead>\n",
       "    <tr style=\"text-align: right;\">\n",
       "      <th></th>\n",
       "      <th>Year</th>\n",
       "      <th>Month</th>\n",
       "      <th>Laptop/Desktop</th>\n",
       "      <th>Type_of_Customers?</th>\n",
       "      <th>Coming from</th>\n",
       "      <th>Place_in_India</th>\n",
       "      <th>Level 1</th>\n",
       "      <th>Level 2</th>\n",
       "      <th>Level 3</th>\n",
       "      <th>Level 4</th>\n",
       "      <th>inc/dec percentage</th>\n",
       "    </tr>\n",
       "  </thead>\n",
       "  <tbody>\n",
       "    <tr>\n",
       "      <th>0</th>\n",
       "      <td>2020</td>\n",
       "      <td>January</td>\n",
       "      <td>Desktop_Website</td>\n",
       "      <td>Existing_Customer</td>\n",
       "      <td>From LinkedIn</td>\n",
       "      <td>Bengaluru</td>\n",
       "      <td>783870.222017</td>\n",
       "      <td>358215.416281</td>\n",
       "      <td>56892</td>\n",
       "      <td>17178</td>\n",
       "      <td>97.808566</td>\n",
       "    </tr>\n",
       "    <tr>\n",
       "      <th>1</th>\n",
       "      <td>2020</td>\n",
       "      <td>January</td>\n",
       "      <td>Desktop_Website</td>\n",
       "      <td>Existing_Customer</td>\n",
       "      <td>From LinkedIn</td>\n",
       "      <td>Hyderabad</td>\n",
       "      <td>783870.222017</td>\n",
       "      <td>358215.416281</td>\n",
       "      <td>41460</td>\n",
       "      <td>11916</td>\n",
       "      <td>98.479850</td>\n",
       "    </tr>\n",
       "    <tr>\n",
       "      <th>2</th>\n",
       "      <td>2020</td>\n",
       "      <td>January</td>\n",
       "      <td>Desktop_Website</td>\n",
       "      <td>Existing_Customer</td>\n",
       "      <td>From LinkedIn</td>\n",
       "      <td>Dehradun</td>\n",
       "      <td>783870.222017</td>\n",
       "      <td>358215.416281</td>\n",
       "      <td>55561</td>\n",
       "      <td>19461</td>\n",
       "      <td>97.517319</td>\n",
       "    </tr>\n",
       "    <tr>\n",
       "      <th>3</th>\n",
       "      <td>2020</td>\n",
       "      <td>January</td>\n",
       "      <td>Desktop_Website</td>\n",
       "      <td>Existing_Customer</td>\n",
       "      <td>From LinkedIn</td>\n",
       "      <td>Indore</td>\n",
       "      <td>783870.222017</td>\n",
       "      <td>358215.416281</td>\n",
       "      <td>320923</td>\n",
       "      <td>110667</td>\n",
       "      <td>85.881974</td>\n",
       "    </tr>\n",
       "    <tr>\n",
       "      <th>4</th>\n",
       "      <td>2020</td>\n",
       "      <td>January</td>\n",
       "      <td>Desktop_Website</td>\n",
       "      <td>Existing_Customer</td>\n",
       "      <td>From LinkedIn</td>\n",
       "      <td>Pune</td>\n",
       "      <td>783870.222017</td>\n",
       "      <td>358215.416281</td>\n",
       "      <td>220937</td>\n",
       "      <td>46033</td>\n",
       "      <td>94.127472</td>\n",
       "    </tr>\n",
       "    <tr>\n",
       "      <th>...</th>\n",
       "      <td>...</td>\n",
       "      <td>...</td>\n",
       "      <td>...</td>\n",
       "      <td>...</td>\n",
       "      <td>...</td>\n",
       "      <td>...</td>\n",
       "      <td>...</td>\n",
       "      <td>...</td>\n",
       "      <td>...</td>\n",
       "      <td>...</td>\n",
       "      <td>...</td>\n",
       "    </tr>\n",
       "    <tr>\n",
       "      <th>2155</th>\n",
       "      <td>2022</td>\n",
       "      <td>December</td>\n",
       "      <td>Laptop_Website</td>\n",
       "      <td>New_Customer</td>\n",
       "      <td>Unidentified_Sources</td>\n",
       "      <td>Bengaluru</td>\n",
       "      <td>67299.000000</td>\n",
       "      <td>21255.000000</td>\n",
       "      <td>6984</td>\n",
       "      <td>1882</td>\n",
       "      <td>97.203525</td>\n",
       "    </tr>\n",
       "    <tr>\n",
       "      <th>2156</th>\n",
       "      <td>2022</td>\n",
       "      <td>December</td>\n",
       "      <td>Laptop_Website</td>\n",
       "      <td>New_Customer</td>\n",
       "      <td>Unidentified_Sources</td>\n",
       "      <td>Hyderabad</td>\n",
       "      <td>430294.000000</td>\n",
       "      <td>156510.000000</td>\n",
       "      <td>46676</td>\n",
       "      <td>16703</td>\n",
       "      <td>96.118235</td>\n",
       "    </tr>\n",
       "    <tr>\n",
       "      <th>2157</th>\n",
       "      <td>2022</td>\n",
       "      <td>December</td>\n",
       "      <td>Laptop_Website</td>\n",
       "      <td>New_Customer</td>\n",
       "      <td>Unidentified_Sources</td>\n",
       "      <td>Dehradun</td>\n",
       "      <td>48713.000000</td>\n",
       "      <td>27770.000000</td>\n",
       "      <td>7515</td>\n",
       "      <td>2089</td>\n",
       "      <td>95.711617</td>\n",
       "    </tr>\n",
       "    <tr>\n",
       "      <th>2158</th>\n",
       "      <td>2022</td>\n",
       "      <td>December</td>\n",
       "      <td>Laptop_Website</td>\n",
       "      <td>New_Customer</td>\n",
       "      <td>Unidentified_Sources</td>\n",
       "      <td>Indore</td>\n",
       "      <td>593021.000000</td>\n",
       "      <td>310836.000000</td>\n",
       "      <td>161575</td>\n",
       "      <td>78465</td>\n",
       "      <td>86.768597</td>\n",
       "    </tr>\n",
       "    <tr>\n",
       "      <th>2159</th>\n",
       "      <td>2022</td>\n",
       "      <td>December</td>\n",
       "      <td>Laptop_Website</td>\n",
       "      <td>New_Customer</td>\n",
       "      <td>Unidentified_Sources</td>\n",
       "      <td>Pune</td>\n",
       "      <td>372897.000000</td>\n",
       "      <td>123057.000000</td>\n",
       "      <td>48802</td>\n",
       "      <td>19441</td>\n",
       "      <td>94.786496</td>\n",
       "    </tr>\n",
       "  </tbody>\n",
       "</table>\n",
       "<p>2160 rows × 11 columns</p>\n",
       "</div>"
      ],
      "text/plain": [
       "      Year     Month   Laptop/Desktop Type_of_Customers?  \\\n",
       "0     2020   January  Desktop_Website  Existing_Customer   \n",
       "1     2020   January  Desktop_Website  Existing_Customer   \n",
       "2     2020   January  Desktop_Website  Existing_Customer   \n",
       "3     2020   January  Desktop_Website  Existing_Customer   \n",
       "4     2020   January  Desktop_Website  Existing_Customer   \n",
       "...    ...       ...              ...                ...   \n",
       "2155  2022  December   Laptop_Website       New_Customer   \n",
       "2156  2022  December   Laptop_Website       New_Customer   \n",
       "2157  2022  December   Laptop_Website       New_Customer   \n",
       "2158  2022  December   Laptop_Website       New_Customer   \n",
       "2159  2022  December   Laptop_Website       New_Customer   \n",
       "\n",
       "               Coming from Place_in_India        Level 1        Level 2  \\\n",
       "0            From LinkedIn      Bengaluru  783870.222017  358215.416281   \n",
       "1            From LinkedIn      Hyderabad  783870.222017  358215.416281   \n",
       "2            From LinkedIn       Dehradun  783870.222017  358215.416281   \n",
       "3            From LinkedIn         Indore  783870.222017  358215.416281   \n",
       "4            From LinkedIn           Pune  783870.222017  358215.416281   \n",
       "...                    ...            ...            ...            ...   \n",
       "2155  Unidentified_Sources      Bengaluru   67299.000000   21255.000000   \n",
       "2156  Unidentified_Sources      Hyderabad  430294.000000  156510.000000   \n",
       "2157  Unidentified_Sources       Dehradun   48713.000000   27770.000000   \n",
       "2158  Unidentified_Sources         Indore  593021.000000  310836.000000   \n",
       "2159  Unidentified_Sources           Pune  372897.000000  123057.000000   \n",
       "\n",
       "      Level 3  Level 4  inc/dec percentage  \n",
       "0       56892    17178           97.808566  \n",
       "1       41460    11916           98.479850  \n",
       "2       55561    19461           97.517319  \n",
       "3      320923   110667           85.881974  \n",
       "4      220937    46033           94.127472  \n",
       "...       ...      ...                 ...  \n",
       "2155     6984     1882           97.203525  \n",
       "2156    46676    16703           96.118235  \n",
       "2157     7515     2089           95.711617  \n",
       "2158   161575    78465           86.768597  \n",
       "2159    48802    19441           94.786496  \n",
       "\n",
       "[2160 rows x 11 columns]"
      ]
     },
     "execution_count": 15,
     "metadata": {},
     "output_type": "execute_result"
    }
   ],
   "source": [
    "df"
   ]
  },
  {
   "cell_type": "markdown",
   "id": "6fc66425",
   "metadata": {},
   "source": [
    "## Part 2: Descriptive statistics"
   ]
  },
  {
   "cell_type": "code",
   "execution_count": 16,
   "id": "155e4f6b",
   "metadata": {},
   "outputs": [],
   "source": [
    "def descriptive_stats(df, Year, Month, Laptop_Desktop, Type_of_Customers, Comingfrom):\n",
    "    #the minimum values present in all the level-columns\n",
    "    print(\"Min of Level 1: \", df['Level 1'].min())\n",
    "    print(\"Min of Level 2: \", df['Level 2'].min())\n",
    "    print(\"Min of Level 3: \", df['Level 3'].min())\n",
    "    print(\"Min of Level 4: \", df['Level 4'].min())\n",
    "    \n",
    "    #the maximum value of “Level 2” / “Level 1” among those who came directly to the via desktop website\n",
    "    desktop=df[df[\"Laptop/Desktop\"]==\"Desktop_Website\"]\n",
    "    print(\"Max value of level2/level1 = \", max(desktop['Level 2']/desktop['Level 1']))\n",
    "    \n",
    "    #filter the dataframe with the given parameters\n",
    "    if Year == None:\n",
    "        Year = 2020\n",
    "    if Month == None:\n",
    "        Month = \"January\"\n",
    "    if Laptop_Desktop == None:\n",
    "        Laptop_Desktop = \"Desktop_Website\"\n",
    "    if Type_of_Customers== None:\n",
    "        Type_of_Customers = \"Existing_Customer\"\n",
    "    if Comingfrom == None:\n",
    "        Comingfrom = \"From LinkedIn\"\n",
    "    \n",
    "    filt= (df['Year']==Year)|(df['Month']==Month)|(df['Laptop/Desktop']==Laptop_Desktop)|(df['Type_of_Customers?']==Type_of_Customers)|(df['Coming from']==Comingfrom)\n",
    "    new_df=df[filt]\n",
    "    print(new_df)\n",
    "   \n",
    "    #summary statistics of all the numerical columns of the new dataframe\n",
    "    numerics = ['int16', 'int32', 'int64', 'float16', 'float32', 'float64']\n",
    "    new_df_numeric_columns=new_df.select_dtypes(include=numerics).columns.tolist()\n",
    "    print(new_df_numeric_columns)\n",
    "    print(\"\\n\")\n",
    "    for col in (new_df_numeric_columns):\n",
    "        print(new_df[col].describe())\n",
    "        print(\"\\n\")\n",
    "    \n",
    "    #unique values & data types present in the non-numeric columns in new_df\n",
    "    new_df_nonnumeric_columns=new_df.select_dtypes(include=object).columns.tolist()\n",
    "    print(new_df_nonnumeric_columns)\n",
    "    print(\"\\n\")\n",
    "    for col in (new_df_nonnumeric_columns):\n",
    "        print(col,end=\" \")\n",
    "        print(new_df[col].unique())\n",
    "        print(\"\\n\")\n",
    "    \n",
    "    pass"
   ]
  },
  {
   "cell_type": "code",
   "execution_count": 17,
   "id": "94b3bce0",
   "metadata": {},
   "outputs": [
    {
     "name": "stdout",
     "output_type": "stream",
     "text": [
      "Min of Level 1:  24567.0\n",
      "Min of Level 2:  8425.0\n",
      "Min of Level 3:  3761\n",
      "Min of Level 4:  766\n",
      "Max value of level2/level1 =  0.8980720288554845\n",
      "      Year     Month   Laptop/Desktop Type_of_Customers?    Coming from  \\\n",
      "0     2020   January  Desktop_Website  Existing_Customer  From LinkedIn   \n",
      "1     2020   January  Desktop_Website  Existing_Customer  From LinkedIn   \n",
      "2     2020   January  Desktop_Website  Existing_Customer  From LinkedIn   \n",
      "3     2020   January  Desktop_Website  Existing_Customer  From LinkedIn   \n",
      "4     2020   January  Desktop_Website  Existing_Customer  From LinkedIn   \n",
      "...    ...       ...              ...                ...            ...   \n",
      "2145  2022  December   Laptop_Website       New_Customer  From LinkedIn   \n",
      "2146  2022  December   Laptop_Website       New_Customer  From LinkedIn   \n",
      "2147  2022  December   Laptop_Website       New_Customer  From LinkedIn   \n",
      "2148  2022  December   Laptop_Website       New_Customer  From LinkedIn   \n",
      "2149  2022  December   Laptop_Website       New_Customer  From LinkedIn   \n",
      "\n",
      "     Place_in_India       Level 1        Level 2  Level 3  Level 4  \\\n",
      "0         Bengaluru  7.838702e+05  358215.416281    56892    17178   \n",
      "1         Hyderabad  7.838702e+05  358215.416281    41460    11916   \n",
      "2          Dehradun  7.838702e+05  358215.416281    55561    19461   \n",
      "3            Indore  7.838702e+05  358215.416281   320923   110667   \n",
      "4              Pune  7.838702e+05  358215.416281   220937    46033   \n",
      "...             ...           ...            ...      ...      ...   \n",
      "2145      Bengaluru  1.284940e+05   63828.000000    23298    15826   \n",
      "2146      Hyderabad  7.039870e+05  373342.000000   177585   123143   \n",
      "2147       Dehradun  1.866980e+05   91439.000000    33184    21651   \n",
      "2148         Indore  1.087899e+06  568852.000000   290838   181990   \n",
      "2149           Pune  5.739750e+05  309110.000000   122134    79401   \n",
      "\n",
      "      inc/dec percentage  \n",
      "0              97.808566  \n",
      "1              98.479850  \n",
      "2              97.517319  \n",
      "3              85.881974  \n",
      "4              94.127472  \n",
      "...                  ...  \n",
      "2145           87.683472  \n",
      "2146           82.507774  \n",
      "2147           88.403197  \n",
      "2148           83.271425  \n",
      "2149           86.166471  \n",
      "\n",
      "[1940 rows x 11 columns]\n",
      "['Year', 'Level 1', 'Level 2', 'Level 3', 'Level 4', 'inc/dec percentage']\n",
      "\n",
      "\n",
      "count    1940.000000\n",
      "mean     2020.943299\n",
      "std         0.826259\n",
      "min      2020.000000\n",
      "25%      2020.000000\n",
      "50%      2021.000000\n",
      "75%      2022.000000\n",
      "max      2022.000000\n",
      "Name: Year, dtype: float64\n",
      "\n",
      "\n",
      "count    1.940000e+03\n",
      "mean     7.499750e+05\n",
      "std      7.966220e+05\n",
      "min      2.456700e+04\n",
      "25%      4.068615e+05\n",
      "50%      7.838702e+05\n",
      "75%      7.838702e+05\n",
      "max      1.127413e+07\n",
      "Name: Level 1, dtype: float64\n",
      "\n",
      "\n",
      "count    1.940000e+03\n",
      "mean     3.507703e+05\n",
      "std      3.213638e+05\n",
      "min      8.425000e+03\n",
      "25%      1.996235e+05\n",
      "50%      3.582154e+05\n",
      "75%      3.582154e+05\n",
      "max      4.079301e+06\n",
      "Name: Level 2, dtype: float64\n",
      "\n",
      "\n",
      "count    1.940000e+03\n",
      "mean     1.393375e+05\n",
      "std      2.055112e+05\n",
      "min      3.761000e+03\n",
      "25%      3.377400e+04\n",
      "50%      6.992400e+04\n",
      "75%      1.602478e+05\n",
      "max      3.022858e+06\n",
      "Name: Level 3, dtype: float64\n",
      "\n",
      "\n",
      "count    1.940000e+03\n",
      "mean     5.604031e+04\n",
      "std      8.184388e+04\n",
      "min      7.660000e+02\n",
      "25%      1.152275e+04\n",
      "50%      2.652450e+04\n",
      "75%      6.888625e+04\n",
      "max      1.251258e+06\n",
      "Name: Level 4, dtype: float64\n",
      "\n",
      "\n",
      "count    1940.000000\n",
      "mean       90.802657\n",
      "std         8.860793\n",
      "min        38.159643\n",
      "25%        86.895662\n",
      "50%        93.676313\n",
      "75%        97.928420\n",
      "max        99.902280\n",
      "Name: inc/dec percentage, dtype: float64\n",
      "\n",
      "\n",
      "['Month', 'Laptop/Desktop', 'Type_of_Customers?', 'Coming from', 'Place_in_India']\n",
      "\n",
      "\n",
      "Month ['January' 'February' 'March' 'April' 'May' 'June' 'July' 'August'\n",
      " 'September' 'October' 'November' 'December']\n",
      "\n",
      "\n",
      "Laptop/Desktop ['Desktop_Website' 'Laptop_Website']\n",
      "\n",
      "\n",
      "Type_of_Customers? ['Existing_Customer' 'New_Customer']\n",
      "\n",
      "\n",
      "Coming from ['From LinkedIn' 'Direct_traffic' 'Unidentified_Sources']\n",
      "\n",
      "\n",
      "Place_in_India ['Bengaluru' 'Hyderabad' 'Dehradun' 'Indore' 'Pune']\n",
      "\n",
      "\n"
     ]
    }
   ],
   "source": [
    "descriptive_stats(df,None,None,None,None,None)"
   ]
  },
  {
   "cell_type": "markdown",
   "id": "2194bde2",
   "metadata": {},
   "source": [
    "## Part 3: Prescriptive statistics"
   ]
  },
  {
   "cell_type": "code",
   "execution_count": 18,
   "id": "285bcfb2",
   "metadata": {},
   "outputs": [
    {
     "data": {
      "text/html": [
       "<div>\n",
       "<style scoped>\n",
       "    .dataframe tbody tr th:only-of-type {\n",
       "        vertical-align: middle;\n",
       "    }\n",
       "\n",
       "    .dataframe tbody tr th {\n",
       "        vertical-align: top;\n",
       "    }\n",
       "\n",
       "    .dataframe thead th {\n",
       "        text-align: right;\n",
       "    }\n",
       "</style>\n",
       "<table border=\"1\" class=\"dataframe\">\n",
       "  <thead>\n",
       "    <tr style=\"text-align: right;\">\n",
       "      <th></th>\n",
       "      <th></th>\n",
       "      <th>Sum of Level 4</th>\n",
       "      <th>Rank by column Level 4</th>\n",
       "    </tr>\n",
       "    <tr>\n",
       "      <th>Year</th>\n",
       "      <th>Place_in_India</th>\n",
       "      <th></th>\n",
       "      <th></th>\n",
       "    </tr>\n",
       "  </thead>\n",
       "  <tbody>\n",
       "    <tr>\n",
       "      <th rowspan=\"5\" valign=\"top\">2020</th>\n",
       "      <th>Indore</th>\n",
       "      <td>20092071</td>\n",
       "      <td>1.0</td>\n",
       "    </tr>\n",
       "    <tr>\n",
       "      <th>Pune</th>\n",
       "      <td>11039977</td>\n",
       "      <td>2.0</td>\n",
       "    </tr>\n",
       "    <tr>\n",
       "      <th>Hyderabad</th>\n",
       "      <td>5156066</td>\n",
       "      <td>3.0</td>\n",
       "    </tr>\n",
       "    <tr>\n",
       "      <th>Dehradun</th>\n",
       "      <td>3685750</td>\n",
       "      <td>4.0</td>\n",
       "    </tr>\n",
       "    <tr>\n",
       "      <th>Bengaluru</th>\n",
       "      <td>3231524</td>\n",
       "      <td>5.0</td>\n",
       "    </tr>\n",
       "    <tr>\n",
       "      <th rowspan=\"5\" valign=\"top\">2022</th>\n",
       "      <th>Indore</th>\n",
       "      <td>15104408</td>\n",
       "      <td>1.0</td>\n",
       "    </tr>\n",
       "    <tr>\n",
       "      <th>Pune</th>\n",
       "      <td>11208722</td>\n",
       "      <td>2.0</td>\n",
       "    </tr>\n",
       "    <tr>\n",
       "      <th>Hyderabad</th>\n",
       "      <td>8211936</td>\n",
       "      <td>3.0</td>\n",
       "    </tr>\n",
       "    <tr>\n",
       "      <th>Bengaluru</th>\n",
       "      <td>3752706</td>\n",
       "      <td>4.0</td>\n",
       "    </tr>\n",
       "    <tr>\n",
       "      <th>Dehradun</th>\n",
       "      <td>2673864</td>\n",
       "      <td>5.0</td>\n",
       "    </tr>\n",
       "  </tbody>\n",
       "</table>\n",
       "</div>"
      ],
      "text/plain": [
       "                     Sum of Level 4  Rank by column Level 4\n",
       "Year Place_in_India                                        \n",
       "2020 Indore                20092071                     1.0\n",
       "     Pune                  11039977                     2.0\n",
       "     Hyderabad              5156066                     3.0\n",
       "     Dehradun               3685750                     4.0\n",
       "     Bengaluru              3231524                     5.0\n",
       "2022 Indore                15104408                     1.0\n",
       "     Pune                  11208722                     2.0\n",
       "     Hyderabad              8211936                     3.0\n",
       "     Bengaluru              3752706                     4.0\n",
       "     Dehradun               2673864                     5.0"
      ]
     },
     "execution_count": 18,
     "metadata": {},
     "output_type": "execute_result"
    }
   ],
   "source": [
    "#the top 3 “Place_in_India”  on the basis of column “Level 4” for the year 2020 and 2022 separately\n",
    "df2=pd.DataFrame()\n",
    "df2['Sum of Level 4']= df.groupby(['Year','Place_in_India'])['Level 4'].sum()\n",
    "df2.drop(2021,axis=0,inplace=True)\n",
    "df2['Rank by column Level 4']= df2.groupby('Year')['Sum of Level 4'].rank(ascending=False)\n",
    "df2.sort_values(by=['Year','Rank by column Level 4'],inplace=True)\n",
    "df2"
   ]
  },
  {
   "cell_type": "code",
   "execution_count": 19,
   "id": "b390d8ac",
   "metadata": {},
   "outputs": [
    {
     "data": {
      "text/html": [
       "<div>\n",
       "<style scoped>\n",
       "    .dataframe tbody tr th:only-of-type {\n",
       "        vertical-align: middle;\n",
       "    }\n",
       "\n",
       "    .dataframe tbody tr th {\n",
       "        vertical-align: top;\n",
       "    }\n",
       "\n",
       "    .dataframe thead th {\n",
       "        text-align: right;\n",
       "    }\n",
       "</style>\n",
       "<table border=\"1\" class=\"dataframe\">\n",
       "  <thead>\n",
       "    <tr style=\"text-align: right;\">\n",
       "      <th></th>\n",
       "      <th></th>\n",
       "      <th>Sum of Level 4</th>\n",
       "      <th>Rank by column Level 4</th>\n",
       "    </tr>\n",
       "    <tr>\n",
       "      <th>Year</th>\n",
       "      <th>Place_in_India</th>\n",
       "      <th></th>\n",
       "      <th></th>\n",
       "    </tr>\n",
       "  </thead>\n",
       "  <tbody>\n",
       "    <tr>\n",
       "      <th rowspan=\"3\" valign=\"top\">2020</th>\n",
       "      <th>Indore</th>\n",
       "      <td>20092071</td>\n",
       "      <td>1.0</td>\n",
       "    </tr>\n",
       "    <tr>\n",
       "      <th>Pune</th>\n",
       "      <td>11039977</td>\n",
       "      <td>2.0</td>\n",
       "    </tr>\n",
       "    <tr>\n",
       "      <th>Hyderabad</th>\n",
       "      <td>5156066</td>\n",
       "      <td>3.0</td>\n",
       "    </tr>\n",
       "    <tr>\n",
       "      <th rowspan=\"3\" valign=\"top\">2022</th>\n",
       "      <th>Indore</th>\n",
       "      <td>15104408</td>\n",
       "      <td>1.0</td>\n",
       "    </tr>\n",
       "    <tr>\n",
       "      <th>Pune</th>\n",
       "      <td>11208722</td>\n",
       "      <td>2.0</td>\n",
       "    </tr>\n",
       "    <tr>\n",
       "      <th>Hyderabad</th>\n",
       "      <td>8211936</td>\n",
       "      <td>3.0</td>\n",
       "    </tr>\n",
       "  </tbody>\n",
       "</table>\n",
       "</div>"
      ],
      "text/plain": [
       "                     Sum of Level 4  Rank by column Level 4\n",
       "Year Place_in_India                                        \n",
       "2020 Indore                20092071                     1.0\n",
       "     Pune                  11039977                     2.0\n",
       "     Hyderabad              5156066                     3.0\n",
       "2022 Indore                15104408                     1.0\n",
       "     Pune                  11208722                     2.0\n",
       "     Hyderabad              8211936                     3.0"
      ]
     },
     "execution_count": 19,
     "metadata": {},
     "output_type": "execute_result"
    }
   ],
   "source": [
    "df2.groupby('Year').head(3)"
   ]
  },
  {
   "cell_type": "code",
   "execution_count": 20,
   "id": "d823f573",
   "metadata": {},
   "outputs": [],
   "source": [
    "#the data for all the cities & for all the year according to the given format\n",
    "df3=pd.DataFrame()\n",
    "df3['(Sum of Level 2)/(Sum of level 1)']= df.groupby(['Year','Place_in_India']).apply(lambda x:(x['Level 2']/x['Level 1']).sum())\n",
    "df3['(Sum of Level 3)/(Sum of level 1)']= df.groupby(['Year','Place_in_India']).apply(lambda x:(x['Level 3']/x['Level 1']).sum())\n",
    "df3['(Sum of Level 4)/(Sum of level 1)']= df.groupby(['Year','Place_in_India']).apply(lambda x:(x['Level 4']/x['Level 1']).sum())"
   ]
  },
  {
   "cell_type": "code",
   "execution_count": 21,
   "id": "ed19e0eb",
   "metadata": {},
   "outputs": [
    {
     "data": {
      "text/html": [
       "<div>\n",
       "<style scoped>\n",
       "    .dataframe tbody tr th:only-of-type {\n",
       "        vertical-align: middle;\n",
       "    }\n",
       "\n",
       "    .dataframe tbody tr th {\n",
       "        vertical-align: top;\n",
       "    }\n",
       "\n",
       "    .dataframe thead th {\n",
       "        text-align: right;\n",
       "    }\n",
       "</style>\n",
       "<table border=\"1\" class=\"dataframe\">\n",
       "  <thead>\n",
       "    <tr style=\"text-align: right;\">\n",
       "      <th></th>\n",
       "      <th></th>\n",
       "      <th>(Sum of Level 2)/(Sum of level 1)</th>\n",
       "      <th>(Sum of Level 3)/(Sum of level 1)</th>\n",
       "      <th>(Sum of Level 4)/(Sum of level 1)</th>\n",
       "    </tr>\n",
       "    <tr>\n",
       "      <th>Year</th>\n",
       "      <th>Place_in_India</th>\n",
       "      <th></th>\n",
       "      <th></th>\n",
       "      <th></th>\n",
       "    </tr>\n",
       "  </thead>\n",
       "  <tbody>\n",
       "    <tr>\n",
       "      <th rowspan=\"5\" valign=\"top\">2020</th>\n",
       "      <th>Bengaluru</th>\n",
       "      <td>82.719372</td>\n",
       "      <td>25.533948</td>\n",
       "      <td>14.139150</td>\n",
       "    </tr>\n",
       "    <tr>\n",
       "      <th>Dehradun</th>\n",
       "      <td>80.512796</td>\n",
       "      <td>20.503556</td>\n",
       "      <td>11.266746</td>\n",
       "    </tr>\n",
       "    <tr>\n",
       "      <th>Hyderabad</th>\n",
       "      <td>81.095385</td>\n",
       "      <td>26.432323</td>\n",
       "      <td>14.061202</td>\n",
       "    </tr>\n",
       "    <tr>\n",
       "      <th>Indore</th>\n",
       "      <td>84.088724</td>\n",
       "      <td>46.546780</td>\n",
       "      <td>20.998314</td>\n",
       "    </tr>\n",
       "    <tr>\n",
       "      <th>Pune</th>\n",
       "      <td>77.657562</td>\n",
       "      <td>42.164648</td>\n",
       "      <td>15.770913</td>\n",
       "    </tr>\n",
       "    <tr>\n",
       "      <th rowspan=\"5\" valign=\"top\">2021</th>\n",
       "      <th>Bengaluru</th>\n",
       "      <td>68.090990</td>\n",
       "      <td>19.871213</td>\n",
       "      <td>11.467041</td>\n",
       "    </tr>\n",
       "    <tr>\n",
       "      <th>Dehradun</th>\n",
       "      <td>68.547569</td>\n",
       "      <td>17.685875</td>\n",
       "      <td>9.197871</td>\n",
       "    </tr>\n",
       "    <tr>\n",
       "      <th>Hyderabad</th>\n",
       "      <td>68.471494</td>\n",
       "      <td>24.590077</td>\n",
       "      <td>13.068231</td>\n",
       "    </tr>\n",
       "    <tr>\n",
       "      <th>Indore</th>\n",
       "      <td>68.748849</td>\n",
       "      <td>36.538509</td>\n",
       "      <td>16.978631</td>\n",
       "    </tr>\n",
       "    <tr>\n",
       "      <th>Pune</th>\n",
       "      <td>63.037564</td>\n",
       "      <td>32.048877</td>\n",
       "      <td>12.988073</td>\n",
       "    </tr>\n",
       "    <tr>\n",
       "      <th rowspan=\"5\" valign=\"top\">2022</th>\n",
       "      <th>Bengaluru</th>\n",
       "      <td>62.859130</td>\n",
       "      <td>18.749773</td>\n",
       "      <td>10.357496</td>\n",
       "    </tr>\n",
       "    <tr>\n",
       "      <th>Dehradun</th>\n",
       "      <td>64.715905</td>\n",
       "      <td>18.308819</td>\n",
       "      <td>8.226502</td>\n",
       "    </tr>\n",
       "    <tr>\n",
       "      <th>Hyderabad</th>\n",
       "      <td>66.293009</td>\n",
       "      <td>26.754597</td>\n",
       "      <td>11.706465</td>\n",
       "    </tr>\n",
       "    <tr>\n",
       "      <th>Indore</th>\n",
       "      <td>68.248198</td>\n",
       "      <td>37.748828</td>\n",
       "      <td>14.263214</td>\n",
       "    </tr>\n",
       "    <tr>\n",
       "      <th>Pune</th>\n",
       "      <td>61.928213</td>\n",
       "      <td>28.747811</td>\n",
       "      <td>10.001287</td>\n",
       "    </tr>\n",
       "  </tbody>\n",
       "</table>\n",
       "</div>"
      ],
      "text/plain": [
       "                     (Sum of Level 2)/(Sum of level 1)  \\\n",
       "Year Place_in_India                                      \n",
       "2020 Bengaluru                               82.719372   \n",
       "     Dehradun                                80.512796   \n",
       "     Hyderabad                               81.095385   \n",
       "     Indore                                  84.088724   \n",
       "     Pune                                    77.657562   \n",
       "2021 Bengaluru                               68.090990   \n",
       "     Dehradun                                68.547569   \n",
       "     Hyderabad                               68.471494   \n",
       "     Indore                                  68.748849   \n",
       "     Pune                                    63.037564   \n",
       "2022 Bengaluru                               62.859130   \n",
       "     Dehradun                                64.715905   \n",
       "     Hyderabad                               66.293009   \n",
       "     Indore                                  68.248198   \n",
       "     Pune                                    61.928213   \n",
       "\n",
       "                     (Sum of Level 3)/(Sum of level 1)  \\\n",
       "Year Place_in_India                                      \n",
       "2020 Bengaluru                               25.533948   \n",
       "     Dehradun                                20.503556   \n",
       "     Hyderabad                               26.432323   \n",
       "     Indore                                  46.546780   \n",
       "     Pune                                    42.164648   \n",
       "2021 Bengaluru                               19.871213   \n",
       "     Dehradun                                17.685875   \n",
       "     Hyderabad                               24.590077   \n",
       "     Indore                                  36.538509   \n",
       "     Pune                                    32.048877   \n",
       "2022 Bengaluru                               18.749773   \n",
       "     Dehradun                                18.308819   \n",
       "     Hyderabad                               26.754597   \n",
       "     Indore                                  37.748828   \n",
       "     Pune                                    28.747811   \n",
       "\n",
       "                     (Sum of Level 4)/(Sum of level 1)  \n",
       "Year Place_in_India                                     \n",
       "2020 Bengaluru                               14.139150  \n",
       "     Dehradun                                11.266746  \n",
       "     Hyderabad                               14.061202  \n",
       "     Indore                                  20.998314  \n",
       "     Pune                                    15.770913  \n",
       "2021 Bengaluru                               11.467041  \n",
       "     Dehradun                                 9.197871  \n",
       "     Hyderabad                               13.068231  \n",
       "     Indore                                  16.978631  \n",
       "     Pune                                    12.988073  \n",
       "2022 Bengaluru                               10.357496  \n",
       "     Dehradun                                 8.226502  \n",
       "     Hyderabad                               11.706465  \n",
       "     Indore                                  14.263214  \n",
       "     Pune                                    10.001287  "
      ]
     },
     "execution_count": 21,
     "metadata": {},
     "output_type": "execute_result"
    }
   ],
   "source": [
    "df3"
   ]
  },
  {
   "cell_type": "code",
   "execution_count": 22,
   "id": "0df260b0",
   "metadata": {},
   "outputs": [
    {
     "data": {
      "text/html": [
       "<div>\n",
       "<style scoped>\n",
       "    .dataframe tbody tr th:only-of-type {\n",
       "        vertical-align: middle;\n",
       "    }\n",
       "\n",
       "    .dataframe tbody tr th {\n",
       "        vertical-align: top;\n",
       "    }\n",
       "\n",
       "    .dataframe thead th {\n",
       "        text-align: right;\n",
       "    }\n",
       "</style>\n",
       "<table border=\"1\" class=\"dataframe\">\n",
       "  <thead>\n",
       "    <tr style=\"text-align: right;\">\n",
       "      <th></th>\n",
       "      <th></th>\n",
       "      <th>(Sum of Level 4)/(Sum of level 1)</th>\n",
       "      <th>Rank by column Level 4/1</th>\n",
       "    </tr>\n",
       "    <tr>\n",
       "      <th>Year</th>\n",
       "      <th>Place_in_India</th>\n",
       "      <th></th>\n",
       "      <th></th>\n",
       "    </tr>\n",
       "  </thead>\n",
       "  <tbody>\n",
       "    <tr>\n",
       "      <th rowspan=\"5\" valign=\"top\">2021</th>\n",
       "      <th>Dehradun</th>\n",
       "      <td>9.197871</td>\n",
       "      <td>1.0</td>\n",
       "    </tr>\n",
       "    <tr>\n",
       "      <th>Bengaluru</th>\n",
       "      <td>11.467041</td>\n",
       "      <td>2.0</td>\n",
       "    </tr>\n",
       "    <tr>\n",
       "      <th>Pune</th>\n",
       "      <td>12.988073</td>\n",
       "      <td>3.0</td>\n",
       "    </tr>\n",
       "    <tr>\n",
       "      <th>Hyderabad</th>\n",
       "      <td>13.068231</td>\n",
       "      <td>4.0</td>\n",
       "    </tr>\n",
       "    <tr>\n",
       "      <th>Indore</th>\n",
       "      <td>16.978631</td>\n",
       "      <td>5.0</td>\n",
       "    </tr>\n",
       "    <tr>\n",
       "      <th rowspan=\"5\" valign=\"top\">2022</th>\n",
       "      <th>Dehradun</th>\n",
       "      <td>8.226502</td>\n",
       "      <td>1.0</td>\n",
       "    </tr>\n",
       "    <tr>\n",
       "      <th>Pune</th>\n",
       "      <td>10.001287</td>\n",
       "      <td>2.0</td>\n",
       "    </tr>\n",
       "    <tr>\n",
       "      <th>Bengaluru</th>\n",
       "      <td>10.357496</td>\n",
       "      <td>3.0</td>\n",
       "    </tr>\n",
       "    <tr>\n",
       "      <th>Hyderabad</th>\n",
       "      <td>11.706465</td>\n",
       "      <td>4.0</td>\n",
       "    </tr>\n",
       "    <tr>\n",
       "      <th>Indore</th>\n",
       "      <td>14.263214</td>\n",
       "      <td>5.0</td>\n",
       "    </tr>\n",
       "  </tbody>\n",
       "</table>\n",
       "</div>"
      ],
      "text/plain": [
       "                     (Sum of Level 4)/(Sum of level 1)  \\\n",
       "Year Place_in_India                                      \n",
       "2021 Dehradun                                 9.197871   \n",
       "     Bengaluru                               11.467041   \n",
       "     Pune                                    12.988073   \n",
       "     Hyderabad                               13.068231   \n",
       "     Indore                                  16.978631   \n",
       "2022 Dehradun                                 8.226502   \n",
       "     Pune                                    10.001287   \n",
       "     Bengaluru                               10.357496   \n",
       "     Hyderabad                               11.706465   \n",
       "     Indore                                  14.263214   \n",
       "\n",
       "                     Rank by column Level 4/1  \n",
       "Year Place_in_India                            \n",
       "2021 Dehradun                             1.0  \n",
       "     Bengaluru                            2.0  \n",
       "     Pune                                 3.0  \n",
       "     Hyderabad                            4.0  \n",
       "     Indore                               5.0  \n",
       "2022 Dehradun                             1.0  \n",
       "     Pune                                 2.0  \n",
       "     Bengaluru                            3.0  \n",
       "     Hyderabad                            4.0  \n",
       "     Indore                               5.0  "
      ]
     },
     "execution_count": 22,
     "metadata": {},
     "output_type": "execute_result"
    }
   ],
   "source": [
    "#the bottom 3 “Place_in_India”  on the basis of column “Level 4”/ “Level 1” for the year 2021 and 2022 separately \n",
    "df4=pd.DataFrame()\n",
    "df4['(Sum of Level 4)/(Sum of level 1)']=df3['(Sum of Level 4)/(Sum of level 1)']\n",
    "df4.drop(2020,axis=0,inplace=True)\n",
    "df4['Rank by column Level 4/1']= df4.groupby('Year')['(Sum of Level 4)/(Sum of level 1)'].rank(ascending=True)\n",
    "df4.sort_values(by=['Year','Rank by column Level 4/1'],inplace=True)\n",
    "df4"
   ]
  },
  {
   "cell_type": "code",
   "execution_count": 23,
   "id": "8d76453a",
   "metadata": {},
   "outputs": [
    {
     "data": {
      "text/html": [
       "<div>\n",
       "<style scoped>\n",
       "    .dataframe tbody tr th:only-of-type {\n",
       "        vertical-align: middle;\n",
       "    }\n",
       "\n",
       "    .dataframe tbody tr th {\n",
       "        vertical-align: top;\n",
       "    }\n",
       "\n",
       "    .dataframe thead th {\n",
       "        text-align: right;\n",
       "    }\n",
       "</style>\n",
       "<table border=\"1\" class=\"dataframe\">\n",
       "  <thead>\n",
       "    <tr style=\"text-align: right;\">\n",
       "      <th></th>\n",
       "      <th></th>\n",
       "      <th>(Sum of Level 4)/(Sum of level 1)</th>\n",
       "      <th>Rank by column Level 4/1</th>\n",
       "    </tr>\n",
       "    <tr>\n",
       "      <th>Year</th>\n",
       "      <th>Place_in_India</th>\n",
       "      <th></th>\n",
       "      <th></th>\n",
       "    </tr>\n",
       "  </thead>\n",
       "  <tbody>\n",
       "    <tr>\n",
       "      <th rowspan=\"3\" valign=\"top\">2021</th>\n",
       "      <th>Dehradun</th>\n",
       "      <td>9.197871</td>\n",
       "      <td>1.0</td>\n",
       "    </tr>\n",
       "    <tr>\n",
       "      <th>Bengaluru</th>\n",
       "      <td>11.467041</td>\n",
       "      <td>2.0</td>\n",
       "    </tr>\n",
       "    <tr>\n",
       "      <th>Pune</th>\n",
       "      <td>12.988073</td>\n",
       "      <td>3.0</td>\n",
       "    </tr>\n",
       "    <tr>\n",
       "      <th rowspan=\"3\" valign=\"top\">2022</th>\n",
       "      <th>Dehradun</th>\n",
       "      <td>8.226502</td>\n",
       "      <td>1.0</td>\n",
       "    </tr>\n",
       "    <tr>\n",
       "      <th>Pune</th>\n",
       "      <td>10.001287</td>\n",
       "      <td>2.0</td>\n",
       "    </tr>\n",
       "    <tr>\n",
       "      <th>Bengaluru</th>\n",
       "      <td>10.357496</td>\n",
       "      <td>3.0</td>\n",
       "    </tr>\n",
       "  </tbody>\n",
       "</table>\n",
       "</div>"
      ],
      "text/plain": [
       "                     (Sum of Level 4)/(Sum of level 1)  \\\n",
       "Year Place_in_India                                      \n",
       "2021 Dehradun                                 9.197871   \n",
       "     Bengaluru                               11.467041   \n",
       "     Pune                                    12.988073   \n",
       "2022 Dehradun                                 8.226502   \n",
       "     Pune                                    10.001287   \n",
       "     Bengaluru                               10.357496   \n",
       "\n",
       "                     Rank by column Level 4/1  \n",
       "Year Place_in_India                            \n",
       "2021 Dehradun                             1.0  \n",
       "     Bengaluru                            2.0  \n",
       "     Pune                                 3.0  \n",
       "2022 Dehradun                             1.0  \n",
       "     Pune                                 2.0  \n",
       "     Bengaluru                            3.0  "
      ]
     },
     "execution_count": 23,
     "metadata": {},
     "output_type": "execute_result"
    }
   ],
   "source": [
    "df4.groupby('Year').head(3)"
   ]
  },
  {
   "cell_type": "code",
   "execution_count": 24,
   "id": "d5f19c27",
   "metadata": {},
   "outputs": [
    {
     "name": "stdout",
     "output_type": "stream",
     "text": [
      "Requirement already satisfied: pandasql in c:\\users\\pmoha\\appdata\\local\\programs\\python\\python310\\lib\\site-packages (0.7.3)\n",
      "Requirement already satisfied: sqlalchemy in c:\\users\\pmoha\\appdata\\local\\programs\\python\\python310\\lib\\site-packages (from pandasql) (1.4.45)\n",
      "Requirement already satisfied: pandas in c:\\users\\pmoha\\appdata\\local\\programs\\python\\python310\\lib\\site-packages (from pandasql) (1.5.1)\n",
      "Requirement already satisfied: numpy in c:\\users\\pmoha\\appdata\\local\\programs\\python\\python310\\lib\\site-packages (from pandasql) (1.22.4)\n",
      "Requirement already satisfied: python-dateutil>=2.8.1 in c:\\users\\pmoha\\appdata\\local\\programs\\python\\python310\\lib\\site-packages (from pandas->pandasql) (2.8.2)\n",
      "Requirement already satisfied: pytz>=2020.1 in c:\\users\\pmoha\\appdata\\local\\programs\\python\\python310\\lib\\site-packages (from pandas->pandasql) (2022.5)\n",
      "Requirement already satisfied: greenlet!=0.4.17 in c:\\users\\pmoha\\appdata\\local\\programs\\python\\python310\\lib\\site-packages (from sqlalchemy->pandasql) (2.0.1)\n",
      "Requirement already satisfied: six>=1.5 in c:\\users\\pmoha\\appdata\\local\\programs\\python\\python310\\lib\\site-packages (from python-dateutil>=2.8.1->pandas->pandasql) (1.16.0)\n",
      "Note: you may need to restart the kernel to use updated packages.\n"
     ]
    },
    {
     "name": "stderr",
     "output_type": "stream",
     "text": [
      "\n",
      "[notice] A new release of pip available: 22.3 -> 22.3.1\n",
      "[notice] To update, run: python.exe -m pip install --upgrade pip\n"
     ]
    }
   ],
   "source": [
    "pip install pandasql"
   ]
  },
  {
   "cell_type": "code",
   "execution_count": 25,
   "id": "1b3c9840",
   "metadata": {},
   "outputs": [
    {
     "name": "stdout",
     "output_type": "stream",
     "text": [
      "place in India that has “Level 4” value greater than 150000 most of the times:\n",
      "    Place_in_India  Count(*)\n",
      "3         Indore       388\n"
     ]
    }
   ],
   "source": [
    "#place in India that has “Level 4” value greater than 150000 most of the times\n",
    "import pandasql as ps\n",
    "df5=pd.DataFrame()\n",
    "q1=\"\"\"SELECT Place_in_India , Count(*) from df where \"Level 4\">15000 group by \"Place_in_India\" \"\"\"\n",
    "df5=(ps.sqldf(q1, locals()))\n",
    "df5.sort_values(by=[\"Count(*)\"],ascending=False,inplace=True)\n",
    "print(\"place in India that has “Level 4” value greater than 150000 most of the times:\\n \",df5.head(1))"
   ]
  },
  {
   "cell_type": "code",
   "execution_count": 26,
   "id": "c9866a25",
   "metadata": {},
   "outputs": [
    {
     "name": "stdout",
     "output_type": "stream",
     "text": [
      "place in India is having least number of existing customers:\n",
      "   Place_in_India  count\n",
      "0      Bengaluru    216\n",
      "1       Dehradun    216\n",
      "2      Hyderabad    216\n",
      "3         Indore    216\n",
      "4           Pune    216\n"
     ]
    }
   ],
   "source": [
    "#place in India is having least number of existing customers?\n",
    "q2=\"\"\"SELECT Place_in_India , Count(*) as count from df where \"Type_of_Customers?\"==\"Existing_Customer\" group by \"Place_in_India\" \"\"\"\n",
    "df6=pd.DataFrame()\n",
    "df6=(ps.sqldf(q2, locals()))\n",
    "print(\"place in India is having least number of existing customers:\\n\",df6)"
   ]
  },
  {
   "cell_type": "markdown",
   "id": "9c974b6f",
   "metadata": {},
   "source": [
    "## Part 4: Simple Machine learning questions"
   ]
  },
  {
   "cell_type": "code",
   "execution_count": 27,
   "id": "70fb3d6f",
   "metadata": {},
   "outputs": [],
   "source": [
    "import matplotlib.pylab as plt\n",
    "%matplotlib inline"
   ]
  },
  {
   "cell_type": "code",
   "execution_count": 28,
   "id": "335c5eaf",
   "metadata": {},
   "outputs": [
    {
     "data": {
      "text/html": [
       "<div>\n",
       "<style scoped>\n",
       "    .dataframe tbody tr th:only-of-type {\n",
       "        vertical-align: middle;\n",
       "    }\n",
       "\n",
       "    .dataframe tbody tr th {\n",
       "        vertical-align: top;\n",
       "    }\n",
       "\n",
       "    .dataframe thead th {\n",
       "        text-align: right;\n",
       "    }\n",
       "</style>\n",
       "<table border=\"1\" class=\"dataframe\">\n",
       "  <thead>\n",
       "    <tr style=\"text-align: right;\">\n",
       "      <th></th>\n",
       "      <th>Year</th>\n",
       "      <th>Month</th>\n",
       "      <th>Laptop/Desktop</th>\n",
       "      <th>Type_of_Customers?</th>\n",
       "      <th>Coming from</th>\n",
       "      <th>Place_in_India</th>\n",
       "      <th>Level 1</th>\n",
       "      <th>Level 2</th>\n",
       "      <th>Level 3</th>\n",
       "      <th>Level 4</th>\n",
       "      <th>inc/dec percentage</th>\n",
       "      <th>Date</th>\n",
       "    </tr>\n",
       "  </thead>\n",
       "  <tbody>\n",
       "    <tr>\n",
       "      <th>0</th>\n",
       "      <td>2020</td>\n",
       "      <td>January</td>\n",
       "      <td>Desktop_Website</td>\n",
       "      <td>Existing_Customer</td>\n",
       "      <td>From LinkedIn</td>\n",
       "      <td>Bengaluru</td>\n",
       "      <td>783870.222017</td>\n",
       "      <td>358215.416281</td>\n",
       "      <td>56892</td>\n",
       "      <td>17178</td>\n",
       "      <td>97.808566</td>\n",
       "      <td>2020-01-01</td>\n",
       "    </tr>\n",
       "    <tr>\n",
       "      <th>1</th>\n",
       "      <td>2020</td>\n",
       "      <td>January</td>\n",
       "      <td>Desktop_Website</td>\n",
       "      <td>Existing_Customer</td>\n",
       "      <td>From LinkedIn</td>\n",
       "      <td>Hyderabad</td>\n",
       "      <td>783870.222017</td>\n",
       "      <td>358215.416281</td>\n",
       "      <td>41460</td>\n",
       "      <td>11916</td>\n",
       "      <td>98.479850</td>\n",
       "      <td>2020-01-01</td>\n",
       "    </tr>\n",
       "    <tr>\n",
       "      <th>2</th>\n",
       "      <td>2020</td>\n",
       "      <td>January</td>\n",
       "      <td>Desktop_Website</td>\n",
       "      <td>Existing_Customer</td>\n",
       "      <td>From LinkedIn</td>\n",
       "      <td>Dehradun</td>\n",
       "      <td>783870.222017</td>\n",
       "      <td>358215.416281</td>\n",
       "      <td>55561</td>\n",
       "      <td>19461</td>\n",
       "      <td>97.517319</td>\n",
       "      <td>2020-01-01</td>\n",
       "    </tr>\n",
       "    <tr>\n",
       "      <th>3</th>\n",
       "      <td>2020</td>\n",
       "      <td>January</td>\n",
       "      <td>Desktop_Website</td>\n",
       "      <td>Existing_Customer</td>\n",
       "      <td>From LinkedIn</td>\n",
       "      <td>Indore</td>\n",
       "      <td>783870.222017</td>\n",
       "      <td>358215.416281</td>\n",
       "      <td>320923</td>\n",
       "      <td>110667</td>\n",
       "      <td>85.881974</td>\n",
       "      <td>2020-01-01</td>\n",
       "    </tr>\n",
       "    <tr>\n",
       "      <th>4</th>\n",
       "      <td>2020</td>\n",
       "      <td>January</td>\n",
       "      <td>Desktop_Website</td>\n",
       "      <td>Existing_Customer</td>\n",
       "      <td>From LinkedIn</td>\n",
       "      <td>Pune</td>\n",
       "      <td>783870.222017</td>\n",
       "      <td>358215.416281</td>\n",
       "      <td>220937</td>\n",
       "      <td>46033</td>\n",
       "      <td>94.127472</td>\n",
       "      <td>2020-01-01</td>\n",
       "    </tr>\n",
       "    <tr>\n",
       "      <th>...</th>\n",
       "      <td>...</td>\n",
       "      <td>...</td>\n",
       "      <td>...</td>\n",
       "      <td>...</td>\n",
       "      <td>...</td>\n",
       "      <td>...</td>\n",
       "      <td>...</td>\n",
       "      <td>...</td>\n",
       "      <td>...</td>\n",
       "      <td>...</td>\n",
       "      <td>...</td>\n",
       "      <td>...</td>\n",
       "    </tr>\n",
       "    <tr>\n",
       "      <th>2155</th>\n",
       "      <td>2022</td>\n",
       "      <td>December</td>\n",
       "      <td>Laptop_Website</td>\n",
       "      <td>New_Customer</td>\n",
       "      <td>Unidentified_Sources</td>\n",
       "      <td>Bengaluru</td>\n",
       "      <td>67299.000000</td>\n",
       "      <td>21255.000000</td>\n",
       "      <td>6984</td>\n",
       "      <td>1882</td>\n",
       "      <td>97.203525</td>\n",
       "      <td>2022-12-01</td>\n",
       "    </tr>\n",
       "    <tr>\n",
       "      <th>2156</th>\n",
       "      <td>2022</td>\n",
       "      <td>December</td>\n",
       "      <td>Laptop_Website</td>\n",
       "      <td>New_Customer</td>\n",
       "      <td>Unidentified_Sources</td>\n",
       "      <td>Hyderabad</td>\n",
       "      <td>430294.000000</td>\n",
       "      <td>156510.000000</td>\n",
       "      <td>46676</td>\n",
       "      <td>16703</td>\n",
       "      <td>96.118235</td>\n",
       "      <td>2022-12-01</td>\n",
       "    </tr>\n",
       "    <tr>\n",
       "      <th>2157</th>\n",
       "      <td>2022</td>\n",
       "      <td>December</td>\n",
       "      <td>Laptop_Website</td>\n",
       "      <td>New_Customer</td>\n",
       "      <td>Unidentified_Sources</td>\n",
       "      <td>Dehradun</td>\n",
       "      <td>48713.000000</td>\n",
       "      <td>27770.000000</td>\n",
       "      <td>7515</td>\n",
       "      <td>2089</td>\n",
       "      <td>95.711617</td>\n",
       "      <td>2022-12-01</td>\n",
       "    </tr>\n",
       "    <tr>\n",
       "      <th>2158</th>\n",
       "      <td>2022</td>\n",
       "      <td>December</td>\n",
       "      <td>Laptop_Website</td>\n",
       "      <td>New_Customer</td>\n",
       "      <td>Unidentified_Sources</td>\n",
       "      <td>Indore</td>\n",
       "      <td>593021.000000</td>\n",
       "      <td>310836.000000</td>\n",
       "      <td>161575</td>\n",
       "      <td>78465</td>\n",
       "      <td>86.768597</td>\n",
       "      <td>2022-12-01</td>\n",
       "    </tr>\n",
       "    <tr>\n",
       "      <th>2159</th>\n",
       "      <td>2022</td>\n",
       "      <td>December</td>\n",
       "      <td>Laptop_Website</td>\n",
       "      <td>New_Customer</td>\n",
       "      <td>Unidentified_Sources</td>\n",
       "      <td>Pune</td>\n",
       "      <td>372897.000000</td>\n",
       "      <td>123057.000000</td>\n",
       "      <td>48802</td>\n",
       "      <td>19441</td>\n",
       "      <td>94.786496</td>\n",
       "      <td>2022-12-01</td>\n",
       "    </tr>\n",
       "  </tbody>\n",
       "</table>\n",
       "<p>2160 rows × 12 columns</p>\n",
       "</div>"
      ],
      "text/plain": [
       "      Year     Month   Laptop/Desktop Type_of_Customers?  \\\n",
       "0     2020   January  Desktop_Website  Existing_Customer   \n",
       "1     2020   January  Desktop_Website  Existing_Customer   \n",
       "2     2020   January  Desktop_Website  Existing_Customer   \n",
       "3     2020   January  Desktop_Website  Existing_Customer   \n",
       "4     2020   January  Desktop_Website  Existing_Customer   \n",
       "...    ...       ...              ...                ...   \n",
       "2155  2022  December   Laptop_Website       New_Customer   \n",
       "2156  2022  December   Laptop_Website       New_Customer   \n",
       "2157  2022  December   Laptop_Website       New_Customer   \n",
       "2158  2022  December   Laptop_Website       New_Customer   \n",
       "2159  2022  December   Laptop_Website       New_Customer   \n",
       "\n",
       "               Coming from Place_in_India        Level 1        Level 2  \\\n",
       "0            From LinkedIn      Bengaluru  783870.222017  358215.416281   \n",
       "1            From LinkedIn      Hyderabad  783870.222017  358215.416281   \n",
       "2            From LinkedIn       Dehradun  783870.222017  358215.416281   \n",
       "3            From LinkedIn         Indore  783870.222017  358215.416281   \n",
       "4            From LinkedIn           Pune  783870.222017  358215.416281   \n",
       "...                    ...            ...            ...            ...   \n",
       "2155  Unidentified_Sources      Bengaluru   67299.000000   21255.000000   \n",
       "2156  Unidentified_Sources      Hyderabad  430294.000000  156510.000000   \n",
       "2157  Unidentified_Sources       Dehradun   48713.000000   27770.000000   \n",
       "2158  Unidentified_Sources         Indore  593021.000000  310836.000000   \n",
       "2159  Unidentified_Sources           Pune  372897.000000  123057.000000   \n",
       "\n",
       "      Level 3  Level 4  inc/dec percentage       Date  \n",
       "0       56892    17178           97.808566 2020-01-01  \n",
       "1       41460    11916           98.479850 2020-01-01  \n",
       "2       55561    19461           97.517319 2020-01-01  \n",
       "3      320923   110667           85.881974 2020-01-01  \n",
       "4      220937    46033           94.127472 2020-01-01  \n",
       "...       ...      ...                 ...        ...  \n",
       "2155     6984     1882           97.203525 2022-12-01  \n",
       "2156    46676    16703           96.118235 2022-12-01  \n",
       "2157     7515     2089           95.711617 2022-12-01  \n",
       "2158   161575    78465           86.768597 2022-12-01  \n",
       "2159    48802    19441           94.786496 2022-12-01  \n",
       "\n",
       "[2160 rows x 12 columns]"
      ]
     },
     "execution_count": 28,
     "metadata": {},
     "output_type": "execute_result"
    }
   ],
   "source": [
    "#convert 'Month' from object datatype to timeseries object\n",
    "from datetime import datetime\n",
    "df7=pd.DataFrame()\n",
    "df7['Date']=pd.to_datetime(df['Year'].astype(str)  + df['Month'], format='%Y%B')\n",
    "df['Date']=df7['Date']\n",
    "df7['Level 4']=df['Level 4']\n",
    "df7['strdate']= df7['Date'].astype(str)\n",
    "df"
   ]
  },
  {
   "cell_type": "code",
   "execution_count": 29,
   "id": "a14cf339",
   "metadata": {},
   "outputs": [
    {
     "data": {
      "image/png": "[encoded data removed]",
      "text/plain": [
       "<Figure size 432x288 with 1 Axes>"
      ]
     },
     "metadata": {
      "needs_background": "light"
     },
     "output_type": "display_data"
    }
   ],
   "source": [
    "#understanding present scenario\n",
    "plt.plot(df7['Date'],df7['Level 4'])\n",
    "plt.show()"
   ]
  },
  {
   "cell_type": "code",
   "execution_count": 30,
   "id": "1a09e46d",
   "metadata": {},
   "outputs": [
    {
     "data": {
      "image/png": "[encoded data removed]",
      "text/plain": [
       "<Figure size 432x288 with 1 Axes>"
      ]
     },
     "metadata": {
      "needs_background": "light"
     },
     "output_type": "display_data"
    }
   ],
   "source": [
    "#dividing data to train(80%) and validate(20%)\n",
    "train = df7[:1728]\n",
    "test = df7.drop(train.index)\n",
    "\n",
    "plt.plot(train, color = \"black\")\n",
    "plt.plot(test, color = \"red\")\n",
    "plt.ylabel('Level 4')\n",
    "plt.xlabel('Date')\n",
    "plt.title(\"Train/Test split\")\n",
    "plt.show()"
   ]
  },
  {
   "cell_type": "code",
   "execution_count": 31,
   "id": "a9fa917e",
   "metadata": {},
   "outputs": [
    {
     "data": {
      "image/png": "[encoded data removed]",
      "text/plain": [
       "<Figure size 864x576 with 1 Axes>"
      ]
     },
     "metadata": {
      "needs_background": "light"
     },
     "output_type": "display_data"
    }
   ],
   "source": [
    "#using Naive approach to predict future values\n",
    "dd= np.asarray(train['Level 4']) \n",
    "y_hat = test\n",
    "y_hat['naive'] = dd[len(dd)-1] \n",
    "plt.figure(figsize=(12,8)) \n",
    "plt.plot(train.Date, train['Level 4'], label='Train') \n",
    "plt.plot(test.Date,test['Level 4'], label='Test') \n",
    "plt.plot(y_hat.Date,y_hat['naive'], label='Naive Forecast') \n",
    "plt.legend(loc='best') \n",
    "plt.title(\"Naive Forecast\") \n",
    "plt.show()\n",
    "\n",
    "#naive model isnt helpful for such varying data"
   ]
  },
  {
   "cell_type": "code",
   "execution_count": 32,
   "id": "08c94a95",
   "metadata": {},
   "outputs": [
    {
     "name": "stdout",
     "output_type": "stream",
     "text": [
      "Requirement already satisfied: statsmodels in c:\\users\\pmoha\\appdata\\local\\programs\\python\\python310\\lib\\site-packages (0.13.5)\n",
      "Requirement already satisfied: packaging>=21.3 in c:\\users\\pmoha\\appdata\\local\\programs\\python\\python310\\lib\\site-packages (from statsmodels) (21.3)\n",
      "Requirement already satisfied: patsy>=0.5.2 in c:\\users\\pmoha\\appdata\\local\\programs\\python\\python310\\lib\\site-packages (from statsmodels) (0.5.3)\n",
      "Requirement already satisfied: numpy>=1.22.3 in c:\\users\\pmoha\\appdata\\local\\programs\\python\\python310\\lib\\site-packages (from statsmodels) (1.22.4)\n",
      "Requirement already satisfied: scipy>=1.3 in c:\\users\\pmoha\\appdata\\local\\programs\\python\\python310\\lib\\site-packages (from statsmodels) (1.9.3)\n",
      "Requirement already satisfied: pandas>=0.25 in c:\\users\\pmoha\\appdata\\local\\programs\\python\\python310\\lib\\site-packages (from statsmodels) (1.5.1)\n",
      "Requirement already satisfied: pyparsing!=3.0.5,>=2.0.2 in c:\\users\\pmoha\\appdata\\local\\programs\\python\\python310\\lib\\site-packages (from packaging>=21.3->statsmodels) (3.0.9)\n",
      "Requirement already satisfied: pytz>=2020.1 in c:\\users\\pmoha\\appdata\\local\\programs\\python\\python310\\lib\\site-packages (from pandas>=0.25->statsmodels) (2022.5)\n",
      "Requirement already satisfied: python-dateutil>=2.8.1 in c:\\users\\pmoha\\appdata\\local\\programs\\python\\python310\\lib\\site-packages (from pandas>=0.25->statsmodels) (2.8.2)\n",
      "Requirement already satisfied: six in c:\\users\\pmoha\\appdata\\local\\programs\\python\\python310\\lib\\site-packages (from patsy>=0.5.2->statsmodels) (1.16.0)\n",
      "Note: you may need to restart the kernel to use updated packages.\n"
     ]
    },
    {
     "name": "stderr",
     "output_type": "stream",
     "text": [
      "\n",
      "[notice] A new release of pip available: 22.3 -> 22.3.1\n",
      "[notice] To update, run: python.exe -m pip install --upgrade pip\n"
     ]
    }
   ],
   "source": [
    "pip install statsmodels"
   ]
  },
  {
   "cell_type": "code",
   "execution_count": 33,
   "id": "2ac10531",
   "metadata": {},
   "outputs": [
    {
     "name": "stderr",
     "output_type": "stream",
     "text": [
      "C:\\Users\\pmoha\\AppData\\Local\\Programs\\Python\\Python310\\lib\\site-packages\\statsmodels\\tsa\\statespace\\sarimax.py:978: UserWarning: Non-invertible starting MA parameters found. Using zeros as starting parameters.\n",
      "  warn('Non-invertible starting MA parameters found.'\n"
     ]
    },
    {
     "name": "stdout",
     "output_type": "stream",
     "text": [
      "                               SARIMAX Results                                \n",
      "==============================================================================\n",
      "Dep. Variable:                Level 4   No. Observations:                 1728\n",
      "Model:                 ARIMA(2, 2, 2)   Log Likelihood              -22121.733\n",
      "Date:                Thu, 29 Dec 2022   AIC                          44253.465\n",
      "Time:                        16:27:41   BIC                          44280.733\n",
      "Sample:                             0   HQIC                         44263.552\n",
      "                               - 1728                                         \n",
      "Covariance Type:                  opg                                         \n",
      "==============================================================================\n",
      "                 coef    std err          z      P>|z|      [0.025      0.975]\n",
      "------------------------------------------------------------------------------\n",
      "ar.L1         -0.9752      0.026    -37.256      0.000      -1.027      -0.924\n",
      "ar.L2         -0.4197      0.011    -38.421      0.000      -0.441      -0.398\n",
      "ma.L1         -0.2986      0.029    -10.364      0.000      -0.355      -0.242\n",
      "ma.L2         -0.7008      0.032    -21.907      0.000      -0.763      -0.638\n",
      "sigma2      9.483e+09   2.64e-12   3.59e+21      0.000    9.48e+09    9.48e+09\n",
      "===================================================================================\n",
      "Ljung-Box (L1) (Q):                   3.71   Jarque-Bera (JB):              9370.96\n",
      "Prob(Q):                              0.05   Prob(JB):                         0.00\n",
      "Heteroskedasticity (H):               0.64   Skew:                             0.66\n",
      "Prob(H) (two-sided):                  0.00   Kurtosis:                        14.34\n",
      "===================================================================================\n",
      "\n",
      "Warnings:\n",
      "[1] Covariance matrix calculated using the outer product of gradients (complex-step).\n",
      "[2] Covariance matrix is singular or near-singular, with condition number 1.48e+36. Standard errors may be unstable.\n"
     ]
    },
    {
     "data": {
      "text/plain": [
       "<matplotlib.legend.Legend at 0x1f636d41d20>"
      ]
     },
     "execution_count": 33,
     "metadata": {},
     "output_type": "execute_result"
    },
    {
     "data": {
      "image/png": "[encoded data removed]",
      "text/plain": [
       "<Figure size 432x288 with 1 Axes>"
      ]
     },
     "metadata": {
      "needs_background": "light"
     },
     "output_type": "display_data"
    }
   ],
   "source": [
    "#using ARIMA(Autoregressive Integrated Moving Average) model\n",
    "from statsmodels.tsa.arima.model import ARIMA\n",
    "\n",
    "ARIMAmodel = ARIMA(train['Level 4'], order = (2, 2, 2))\n",
    "ARIMAmodel = ARIMAmodel.fit()\n",
    "print(ARIMAmodel.summary())\n",
    "df7['forecast']=ARIMAmodel.predict(start=test.index[0],end=test.index[-1],dynamic=True)\n",
    "plt.plot(df7['Date'],df7[['Level 4','forecast']])\n",
    "plt.legend(['Level 4','forecast'])"
   ]
  },
  {
   "cell_type": "code",
   "execution_count": 34,
   "id": "d2b1de36",
   "metadata": {},
   "outputs": [
    {
     "name": "stderr",
     "output_type": "stream",
     "text": [
      "C:\\Users\\pmoha\\AppData\\Local\\Programs\\Python\\Python310\\lib\\site-packages\\statsmodels\\tsa\\statespace\\sarimax.py:978: UserWarning: Non-invertible starting MA parameters found. Using zeros as starting parameters.\n",
      "  warn('Non-invertible starting MA parameters found.'\n"
     ]
    },
    {
     "data": {
      "text/plain": [
       "<matplotlib.legend.Legend at 0x1f634ba8070>"
      ]
     },
     "execution_count": 34,
     "metadata": {},
     "output_type": "execute_result"
    },
    {
     "data": {
      "image/png": "[encoded data removed]",
      "text/plain": [
       "<Figure size 432x288 with 1 Axes>"
      ]
     },
     "metadata": {
      "needs_background": "light"
     },
     "output_type": "display_data"
    }
   ],
   "source": [
    "import statsmodels.api as sm\n",
    "model=sm.tsa.statespace.SARIMAX(df['Level 4'],order=(1, 1, 1),seasonal_order=(1,1,1,12))\n",
    "results=model.fit()\n",
    "df7['forecast']=results.predict(start=test.index[0],end=test.index[-1],dynamic=True)\n",
    "plt.plot(df7['Date'],df7[['Level 4','forecast']])\n",
    "plt.legend(['Level 4','forecast'])"
   ]
  },
  {
   "cell_type": "code",
   "execution_count": 35,
   "id": "2cc5bb7f",
   "metadata": {},
   "outputs": [],
   "source": [
    "#forecast next 1 year values\n",
    "from dateutil.relativedelta import relativedelta\n",
    "future_dates=[]\n",
    "for i in range(1,13):\n",
    "    new_date = test.Date[2159] + relativedelta(months=i)\n",
    "    new_date= new_date.date()\n",
    "    future_dates.append(new_date)   \n",
    "\n",
    "future_datest_df=pd.DataFrame(columns=df7.columns)\n",
    "future_datest_df['Date']=future_dates\n",
    "future_datest_df['strdate']=future_datest_df['Date'].astype(str)\n",
    "\n",
    "future_df=pd.concat([df7,future_datest_df],ignore_index=True)\n",
    "future_df['forecast'] = results.predict(start = 2160, end = 2171, dynamic= True)\n"
   ]
  },
  {
   "cell_type": "code",
   "execution_count": 36,
   "id": "7047e64e",
   "metadata": {},
   "outputs": [],
   "source": [
    "#MAPE\n",
    "def Mape(Year):\n",
    "    df_mape=df7[df['Year']==Year]\n",
    "    df_mape['forecast']=ARIMAmodel.predict(start=df_mape.index[0],end=df_mape.index[-1],dynamic=True)\n",
    "    mape = np.mean(np.abs((df_mape['Level 4'] - df_mape[\"forecast\"])/df_mape['Level 4']))*100\n",
    "    return mape"
   ]
  },
  {
   "cell_type": "code",
   "execution_count": 37,
   "id": "4814519d",
   "metadata": {
    "scrolled": true
   },
   "outputs": [],
   "source": [
    "#RMSE\n",
    "import math  \n",
    "import sklearn.metrics  \n",
    "\n",
    "def Rmse(Year):\n",
    "    df_mape=df7[df['Year']==Year]\n",
    "    df_mape['forecast']=ARIMAmodel.predict(start=df_mape.index[0],end=df_mape.index[-1],dynamic=True)\n",
    "    mse = sklearn.metrics.mean_squared_error(df_mape['Level 4'], df_mape[\"forecast\"])  \n",
    "    rmse = math.sqrt(mse)  \n",
    "    return rmse"
   ]
  },
  {
   "cell_type": "code",
   "execution_count": 38,
   "id": "dcae8117",
   "metadata": {},
   "outputs": [],
   "source": [
    "#Rolling Mean\n",
    "def Rolling_mean(Year):\n",
    "    if(Year==2023):\n",
    "        df_mape=future_df[2160:]\n",
    "    else:    \n",
    "        df_mape=df7[df['Year']==Year]\n",
    "        df_mape['forecast']=ARIMAmodel.predict(start=df_mape.index[0],end=df_mape.index[-1],dynamic=True)\n",
    "    df_mape['roll']=df_mape.forecast.rolling(3).mean()\n",
    "    future_df['roll']=df_mape['roll']\n",
    "    plt.figure(figsize=(12, 7))\n",
    "    plt.plot(future_df['Date'],future_df[['Level 4','roll']])\n",
    "    plt.legend(['Level 4','roll_mean'])\n",
    "    pass"
   ]
  },
  {
   "cell_type": "code",
   "execution_count": 39,
   "id": "bfc20fe2",
   "metadata": {},
   "outputs": [],
   "source": [
    "def predict_future(Year, Month, Laptop_Desktop, Type_of_Customers, Comingfrom , Place_in_India):\n",
    "    global df,df7\n",
    "    #filter the dataframe with the given parameters\n",
    "    if Year == None:\n",
    "        Year = 2020\n",
    "    if Month == None:\n",
    "        Month = \"January\"\n",
    "    if Laptop_Desktop == None:\n",
    "        Laptop_Desktop = \"Desktop_Website\"\n",
    "    if Type_of_Customers== None:\n",
    "        Type_of_Customers = \"Existing_Customer\"\n",
    "    if Comingfrom == None:\n",
    "        Comingfrom = \"From LinkedIn\"\n",
    "    if Place_in_India == None:\n",
    "        Place_in_India = \"Bengaluru\"\n",
    "        \n",
    "    req_date=datetime.strptime(str(Year)  + Month,'%Y%B').date()\n",
    "    \n",
    "    #future values\n",
    "    print(future_df)\n",
    "    \n",
    "    #for required date\n",
    "    print(future_df[future_df['Date']==req_date])\n",
    "    \n",
    "    #plot future values\n",
    "    plt.plot(future_df['Date'],future_df[['Level 4','forecast']])\n",
    "    plt.legend(['Level 4','forecast'])\n",
    "    \n",
    "    #Generate MAPE for the given year\n",
    "    print(Mape(Year))\n",
    "    \n",
    "    #Generate RMSE for the given year\n",
    "    print(Rmse(Year))\n",
    "    \n",
    "    #Rolling_Average\n",
    "    Rolling_mean(2023)\n",
    "    \n",
    "    #places in India would do better in 2023 w.r.t 2022 \n",
    "    df8=df7[df['Year']==2022]\n",
    "    df8['forecast']=ARIMAmodel.predict(start=df8.index[0],end=df8.index[-1],dynamic=True)\n",
    "    df8['Place_in_India']=df['Place_in_India'][1440:]\n",
    "    df9=pd.DataFrame()\n",
    "    df9=df8.groupby(['Place_in_India']).apply(lambda x:(x['forecast']-x['Level 4']).sum())\n",
    "    print(df9)\n",
    "    print(\"places in India would do better in 2023 w.r.t 2022: Dehradun\")\n",
    "    \n",
    "    pass"
   ]
  },
  {
   "cell_type": "code",
   "execution_count": 40,
   "id": "7b727029",
   "metadata": {},
   "outputs": [
    {
     "name": "stdout",
     "output_type": "stream",
     "text": [
      "                     Date Level 4     strdate      forecast\n",
      "0     2020-01-01 00:00:00   17178  2020-01-01           NaN\n",
      "1     2020-01-01 00:00:00   11916  2020-01-01           NaN\n",
      "2     2020-01-01 00:00:00   19461  2020-01-01           NaN\n",
      "3     2020-01-01 00:00:00  110667  2020-01-01           NaN\n",
      "4     2020-01-01 00:00:00   46033  2020-01-01           NaN\n",
      "...                   ...     ...         ...           ...\n",
      "2167           2023-08-01     NaN  2023-08-01  47650.859188\n",
      "2168           2023-09-01     NaN  2023-09-01  64931.353242\n",
      "2169           2023-10-01     NaN  2023-10-01  71777.146038\n",
      "2170           2023-11-01     NaN  2023-11-01  48487.426991\n",
      "2171           2023-12-01     NaN  2023-12-01  76123.384713\n",
      "\n",
      "[2172 rows x 4 columns]\n",
      "                   Date Level 4     strdate  forecast\n",
      "0   2020-01-01 00:00:00   17178  2020-01-01       NaN\n",
      "1   2020-01-01 00:00:00   11916  2020-01-01       NaN\n",
      "2   2020-01-01 00:00:00   19461  2020-01-01       NaN\n",
      "3   2020-01-01 00:00:00  110667  2020-01-01       NaN\n",
      "4   2020-01-01 00:00:00   46033  2020-01-01       NaN\n",
      "5   2020-01-01 00:00:00   24229  2020-01-01       NaN\n",
      "6   2020-01-01 00:00:00   18502  2020-01-01       NaN\n",
      "7   2020-01-01 00:00:00   24363  2020-01-01       NaN\n",
      "8   2020-01-01 00:00:00  165036  2020-01-01       NaN\n",
      "9   2020-01-01 00:00:00  101317  2020-01-01       NaN\n",
      "10  2020-01-01 00:00:00    6900  2020-01-01       NaN\n",
      "11  2020-01-01 00:00:00    5606  2020-01-01       NaN\n",
      "12  2020-01-01 00:00:00    8459  2020-01-01       NaN\n",
      "13  2020-01-01 00:00:00   39296  2020-01-01       NaN\n",
      "14  2020-01-01 00:00:00   20223  2020-01-01       NaN\n",
      "15  2020-01-01 00:00:00   33382  2020-01-01       NaN\n",
      "16  2020-01-01 00:00:00   29031  2020-01-01       NaN\n",
      "17  2020-01-01 00:00:00   39804  2020-01-01       NaN\n",
      "18  2020-01-01 00:00:00  373155  2020-01-01       NaN\n",
      "19  2020-01-01 00:00:00  122285  2020-01-01       NaN\n",
      "20  2020-01-01 00:00:00   44999  2020-01-01       NaN\n",
      "21  2020-01-01 00:00:00   32140  2020-01-01       NaN\n",
      "22  2020-01-01 00:00:00   36016  2020-01-01       NaN\n",
      "23  2020-01-01 00:00:00  339970  2020-01-01       NaN\n",
      "24  2020-01-01 00:00:00  225823  2020-01-01       NaN\n",
      "25  2020-01-01 00:00:00    8769  2020-01-01       NaN\n",
      "26  2020-01-01 00:00:00    8832  2020-01-01       NaN\n",
      "27  2020-01-01 00:00:00   10064  2020-01-01       NaN\n",
      "28  2020-01-01 00:00:00   88331  2020-01-01       NaN\n",
      "29  2020-01-01 00:00:00   30731  2020-01-01       NaN\n",
      "30  2020-01-01 00:00:00   13257  2020-01-01       NaN\n",
      "31  2020-01-01 00:00:00    5405  2020-01-01       NaN\n",
      "32  2020-01-01 00:00:00   13345  2020-01-01       NaN\n",
      "33  2020-01-01 00:00:00   59088  2020-01-01       NaN\n",
      "34  2020-01-01 00:00:00   40931  2020-01-01       NaN\n",
      "35  2020-01-01 00:00:00   22628  2020-01-01       NaN\n",
      "36  2020-01-01 00:00:00   10055  2020-01-01       NaN\n",
      "37  2020-01-01 00:00:00   14367  2020-01-01       NaN\n",
      "38  2020-01-01 00:00:00   92895  2020-01-01       NaN\n",
      "39  2020-01-01 00:00:00   83552  2020-01-01       NaN\n",
      "40  2020-01-01 00:00:00    3919  2020-01-01       NaN\n",
      "41  2020-01-01 00:00:00    2272  2020-01-01       NaN\n",
      "42  2020-01-01 00:00:00    4463  2020-01-01       NaN\n",
      "43  2020-01-01 00:00:00   17261  2020-01-01       NaN\n",
      "44  2020-01-01 00:00:00   10397  2020-01-01       NaN\n",
      "45  2020-01-01 00:00:00   33445  2020-01-01       NaN\n",
      "46  2020-01-01 00:00:00   21402  2020-01-01       NaN\n",
      "47  2020-01-01 00:00:00   40949  2020-01-01       NaN\n",
      "48  2020-01-01 00:00:00  317619  2020-01-01       NaN\n",
      "49  2020-01-01 00:00:00  135275  2020-01-01       NaN\n",
      "50  2020-01-01 00:00:00   30993  2020-01-01       NaN\n",
      "51  2020-01-01 00:00:00   25203  2020-01-01       NaN\n",
      "52  2020-01-01 00:00:00   19984  2020-01-01       NaN\n",
      "53  2020-01-01 00:00:00  249974  2020-01-01       NaN\n",
      "54  2020-01-01 00:00:00  182292  2020-01-01       NaN\n",
      "55  2020-01-01 00:00:00    4390  2020-01-01       NaN\n",
      "56  2020-01-01 00:00:00    5024  2020-01-01       NaN\n",
      "57  2020-01-01 00:00:00    6334  2020-01-01       NaN\n",
      "58  2020-01-01 00:00:00   57549  2020-01-01       NaN\n",
      "59  2020-01-01 00:00:00   22624  2020-01-01       NaN\n",
      "100.0\n",
      "108183.07055600242\n",
      "Place_in_India\n",
      "Bengaluru   -4.879294e+05\n",
      "Dehradun     5.944294e+05\n",
      "Hyderabad   -4.938570e+06\n",
      "Indore      -1.183149e+07\n",
      "Pune        -7.934898e+06\n",
      "dtype: float64\n",
      "places in India would do better in 2023 w.r.t 2022: Dehradun\n"
     ]
    },
    {
     "name": "stderr",
     "output_type": "stream",
     "text": [
      "C:\\Users\\pmoha\\AppData\\Local\\Temp\\ipykernel_37296\\2043117772.py:23: FutureWarning: Comparison of Timestamp with datetime.date is deprecated in order to match the standard library behavior. In a future version these will be considered non-comparable. Use 'ts == pd.Timestamp(date)' or 'ts.date() == date' instead.\n",
      "  print(future_df[future_df['Date']==req_date])\n",
      "C:\\Users\\pmoha\\AppData\\Local\\Temp\\ipykernel_37296\\3838633834.py:4: SettingWithCopyWarning: \n",
      "A value is trying to be set on a copy of a slice from a DataFrame.\n",
      "Try using .loc[row_indexer,col_indexer] = value instead\n",
      "\n",
      "See the caveats in the documentation: https://pandas.pydata.org/pandas-docs/stable/user_guide/indexing.html#returning-a-view-versus-a-copy\n",
      "  df_mape['forecast']=ARIMAmodel.predict(start=df_mape.index[0],end=df_mape.index[-1],dynamic=True)\n",
      "C:\\Users\\pmoha\\AppData\\Local\\Temp\\ipykernel_37296\\371627055.py:7: SettingWithCopyWarning: \n",
      "A value is trying to be set on a copy of a slice from a DataFrame.\n",
      "Try using .loc[row_indexer,col_indexer] = value instead\n",
      "\n",
      "See the caveats in the documentation: https://pandas.pydata.org/pandas-docs/stable/user_guide/indexing.html#returning-a-view-versus-a-copy\n",
      "  df_mape['forecast']=ARIMAmodel.predict(start=df_mape.index[0],end=df_mape.index[-1],dynamic=True)\n",
      "C:\\Users\\pmoha\\AppData\\Local\\Temp\\ipykernel_37296\\2912167723.py:8: SettingWithCopyWarning: \n",
      "A value is trying to be set on a copy of a slice from a DataFrame.\n",
      "Try using .loc[row_indexer,col_indexer] = value instead\n",
      "\n",
      "See the caveats in the documentation: https://pandas.pydata.org/pandas-docs/stable/user_guide/indexing.html#returning-a-view-versus-a-copy\n",
      "  df_mape['roll']=df_mape.forecast.rolling(3).mean()\n",
      "C:\\Users\\pmoha\\AppData\\Local\\Temp\\ipykernel_37296\\2043117772.py:40: SettingWithCopyWarning: \n",
      "A value is trying to be set on a copy of a slice from a DataFrame.\n",
      "Try using .loc[row_indexer,col_indexer] = value instead\n",
      "\n",
      "See the caveats in the documentation: https://pandas.pydata.org/pandas-docs/stable/user_guide/indexing.html#returning-a-view-versus-a-copy\n",
      "  df8['forecast']=ARIMAmodel.predict(start=df8.index[0],end=df8.index[-1],dynamic=True)\n",
      "C:\\Users\\pmoha\\AppData\\Local\\Temp\\ipykernel_37296\\2043117772.py:41: SettingWithCopyWarning: \n",
      "A value is trying to be set on a copy of a slice from a DataFrame.\n",
      "Try using .loc[row_indexer,col_indexer] = value instead\n",
      "\n",
      "See the caveats in the documentation: https://pandas.pydata.org/pandas-docs/stable/user_guide/indexing.html#returning-a-view-versus-a-copy\n",
      "  df8['Place_in_India']=df['Place_in_India'][1440:]\n"
     ]
    },
    {
     "data": {
      "image/png": "[encoded data removed]",
      "text/plain": [
       "<Figure size 432x288 with 1 Axes>"
      ]
     },
     "metadata": {
      "needs_background": "light"
     },
     "output_type": "display_data"
    },
    {
     "data": {
      "image/png": "[encoded data removed]",
      "text/plain": [
       "<Figure size 864x504 with 1 Axes>"
      ]
     },
     "metadata": {
      "needs_background": "light"
     },
     "output_type": "display_data"
    }
   ],
   "source": [
    "predict_future(None,None,None,None,None,None)"
   ]
  },
  {
   "cell_type": "markdown",
   "id": "251f6722",
   "metadata": {},
   "source": [
    "## Part 5: Visualization"
   ]
  },
  {
   "cell_type": "code",
   "execution_count": 41,
   "id": "8fd8e1e5",
   "metadata": {},
   "outputs": [
    {
     "name": "stdout",
     "output_type": "stream",
     "text": [
      "Requirement already satisfied: seaborn in c:\\users\\pmoha\\appdata\\local\\programs\\python\\python310\\lib\\site-packages (0.12.1)\n",
      "Requirement already satisfied: matplotlib!=3.6.1,>=3.1 in c:\\users\\pmoha\\appdata\\local\\programs\\python\\python310\\lib\\site-packages (from seaborn) (3.5.2)\n",
      "Requirement already satisfied: pandas>=0.25 in c:\\users\\pmoha\\appdata\\local\\programs\\python\\python310\\lib\\site-packages (from seaborn) (1.5.1)\n",
      "Requirement already satisfied: numpy>=1.17 in c:\\users\\pmoha\\appdata\\local\\programs\\python\\python310\\lib\\site-packages (from seaborn) (1.22.4)\n",
      "Requirement already satisfied: fonttools>=4.22.0 in c:\\users\\pmoha\\appdata\\local\\programs\\python\\python310\\lib\\site-packages (from matplotlib!=3.6.1,>=3.1->seaborn) (4.33.3)\n",
      "Requirement already satisfied: kiwisolver>=1.0.1 in c:\\users\\pmoha\\appdata\\local\\programs\\python\\python310\\lib\\site-packages (from matplotlib!=3.6.1,>=3.1->seaborn) (1.4.3)\n",
      "Requirement already satisfied: pillow>=6.2.0 in c:\\users\\pmoha\\appdata\\local\\programs\\python\\python310\\lib\\site-packages (from matplotlib!=3.6.1,>=3.1->seaborn) (9.1.1)\n",
      "Requirement already satisfied: pyparsing>=2.2.1 in c:\\users\\pmoha\\appdata\\local\\programs\\python\\python310\\lib\\site-packages (from matplotlib!=3.6.1,>=3.1->seaborn) (3.0.9)\n",
      "Requirement already satisfied: packaging>=20.0 in c:\\users\\pmoha\\appdata\\local\\programs\\python\\python310\\lib\\site-packages (from matplotlib!=3.6.1,>=3.1->seaborn) (21.3)\n",
      "Requirement already satisfied: python-dateutil>=2.7 in c:\\users\\pmoha\\appdata\\local\\programs\\python\\python310\\lib\\site-packages (from matplotlib!=3.6.1,>=3.1->seaborn) (2.8.2)\n",
      "Requirement already satisfied: cycler>=0.10 in c:\\users\\pmoha\\appdata\\local\\programs\\python\\python310\\lib\\site-packages (from matplotlib!=3.6.1,>=3.1->seaborn) (0.11.0)\n",
      "Requirement already satisfied: pytz>=2020.1 in c:\\users\\pmoha\\appdata\\local\\programs\\python\\python310\\lib\\site-packages (from pandas>=0.25->seaborn) (2022.5)\n",
      "Requirement already satisfied: six>=1.5 in c:\\users\\pmoha\\appdata\\local\\programs\\python\\python310\\lib\\site-packages (from python-dateutil>=2.7->matplotlib!=3.6.1,>=3.1->seaborn) (1.16.0)\n",
      "Note: you may need to restart the kernel to use updated packages.\n"
     ]
    },
    {
     "name": "stderr",
     "output_type": "stream",
     "text": [
      "\n",
      "[notice] A new release of pip available: 22.3 -> 22.3.1\n",
      "[notice] To update, run: python.exe -m pip install --upgrade pip\n"
     ]
    }
   ],
   "source": [
    "pip install seaborn"
   ]
  },
  {
   "cell_type": "code",
   "execution_count": 42,
   "id": "ba28d98b",
   "metadata": {},
   "outputs": [],
   "source": [
    "import seaborn as sn"
   ]
  },
  {
   "cell_type": "code",
   "execution_count": 43,
   "id": "2d1044bc",
   "metadata": {},
   "outputs": [],
   "source": [
    "req=df[df[\"Year\"]!=2022]"
   ]
  },
  {
   "cell_type": "code",
   "execution_count": 44,
   "id": "b73e2b29",
   "metadata": {},
   "outputs": [
    {
     "name": "stderr",
     "output_type": "stream",
     "text": [
      "C:\\Users\\pmoha\\AppData\\Local\\Temp\\ipykernel_37296\\1664477620.py:3: FutureWarning: \n",
      "\n",
      "The `ci` parameter is deprecated. Use `errorbar=None` for the same effect.\n",
      "\n",
      "  sn.lineplot(x=\"Date\",y=\"Level 2\",data=req,hue=\"Place_in_India\",style=\"Place_in_India\",legend=\"brief\",ci=None)\n"
     ]
    },
    {
     "data": {
      "image/png": "[encoded data removed]",
      "text/plain": [
       "<Figure size 1440x504 with 1 Axes>"
      ]
     },
     "metadata": {
      "needs_background": "light"
     },
     "output_type": "display_data"
    }
   ],
   "source": [
    "#line graph for “Level 2” for the different “Place_in_India?” over the months of the year 2020 & 2021\n",
    "plt.figure(figsize=(20, 7))\n",
    "sn.lineplot(x=\"Date\",y=\"Level 2\",data=req,hue=\"Place_in_India\",style=\"Place_in_India\",legend=\"brief\",ci=None)\n",
    "plt.show()"
   ]
  },
  {
   "cell_type": "code",
   "execution_count": 45,
   "id": "9ee1d41a",
   "metadata": {},
   "outputs": [
    {
     "name": "stderr",
     "output_type": "stream",
     "text": [
      "C:\\Users\\pmoha\\AppData\\Local\\Temp\\ipykernel_37296\\3509215120.py:3: FutureWarning: \n",
      "\n",
      "The `ci` parameter is deprecated. Use `errorbar=None` for the same effect.\n",
      "\n",
      "  sn.lineplot(x=\"Date\",y=\"Level 1\",data=req,hue=\"Laptop/Desktop\",style=\"Laptop/Desktop\",legend=\"brief\",ci=None)\n"
     ]
    },
    {
     "data": {
      "image/png": "[encoded data removed]",
      "text/plain": [
       "<Figure size 1440x504 with 1 Axes>"
      ]
     },
     "metadata": {
      "needs_background": "light"
     },
     "output_type": "display_data"
    }
   ],
   "source": [
    "#line graph for “Level 1” for the different “Laptop/Desktop” over the months of the year 2020 & 2021. \n",
    "plt.figure(figsize=(20, 7))\n",
    "sn.lineplot(x=\"Date\",y=\"Level 1\",data=req,hue=\"Laptop/Desktop\",style=\"Laptop/Desktop\",legend=\"brief\",ci=None)\n",
    "plt.show()"
   ]
  },
  {
   "cell_type": "code",
   "execution_count": 46,
   "id": "46f1274e",
   "metadata": {},
   "outputs": [
    {
     "name": "stderr",
     "output_type": "stream",
     "text": [
      "C:\\Users\\pmoha\\AppData\\Local\\Temp\\ipykernel_37296\\445078604.py:3: FutureWarning: \n",
      "\n",
      "The `ci` parameter is deprecated. Use `errorbar=None` for the same effect.\n",
      "\n",
      "  sn.lineplot(x=\"Date\",y=\"Level 2\",data=req,hue=\"Coming from\",style=\"Coming from\",legend=\"brief\",ci=None)\n"
     ]
    },
    {
     "data": {
      "image/png": "[encoded data removed]",
      "text/plain": [
       "<Figure size 1440x504 with 1 Axes>"
      ]
     },
     "metadata": {
      "needs_background": "light"
     },
     "output_type": "display_data"
    }
   ],
   "source": [
    "#line graph for “Level 2” for the different “Coming from” over the months of the year 2021 & 2022\n",
    "plt.figure(figsize=(20, 7))\n",
    "sn.lineplot(x=\"Date\",y=\"Level 2\",data=req,hue=\"Coming from\",style=\"Coming from\",legend=\"brief\",ci=None)\n",
    "plt.show()"
   ]
  },
  {
   "cell_type": "code",
   "execution_count": 47,
   "id": "7e23f2ec",
   "metadata": {},
   "outputs": [
    {
     "name": "stderr",
     "output_type": "stream",
     "text": [
      "C:\\Users\\pmoha\\AppData\\Local\\Temp\\ipykernel_37296\\1092031344.py:3: FutureWarning: \n",
      "\n",
      "The `ci` parameter is deprecated. Use `errorbar=None` for the same effect.\n",
      "\n",
      "  sn.lineplot(x=\"Date\",y=\"Level 1\",data=df,color=\"blue\",ci=None)\n",
      "C:\\Users\\pmoha\\AppData\\Local\\Temp\\ipykernel_37296\\1092031344.py:4: FutureWarning: \n",
      "\n",
      "The `ci` parameter is deprecated. Use `errorbar=None` for the same effect.\n",
      "\n",
      "  sn.lineplot(x=\"Date\",y=\"Level 4\",data=df,color=\"red\",ci=None)\n",
      "C:\\Users\\pmoha\\AppData\\Local\\Temp\\ipykernel_37296\\1092031344.py:5: FutureWarning: \n",
      "\n",
      "The `ci` parameter is deprecated. Use `errorbar=None` for the same effect.\n",
      "\n",
      "  sn.lineplot(x=\"Date\",y=\"inc/dec percentage\",data=df,color=\"green\",ci=None)\n"
     ]
    },
    {
     "data": {
      "image/png": "[encoded data removed]",
      "text/plain": [
       "<Figure size 1440x504 with 1 Axes>"
      ]
     },
     "metadata": {
      "needs_background": "light"
     },
     "output_type": "display_data"
    }
   ],
   "source": [
    "#line graph for “Level 1”, “Level 4”  and “inc/dec percentage” columns over the months of the year 2020, 2021 & 2022\n",
    "plt.figure(figsize=(20, 7))\n",
    "sn.lineplot(x=\"Date\",y=\"Level 1\",data=df,color=\"blue\",ci=None)\n",
    "sn.lineplot(x=\"Date\",y=\"Level 4\",data=df,color=\"red\",ci=None)\n",
    "sn.lineplot(x=\"Date\",y=\"inc/dec percentage\",data=df,color=\"green\",ci=None)\n",
    "\n",
    "plt.legend(labels=[\"Level 1\",\"Level 4\",\"inc/dec percentage\"])\n",
    "plt.show()"
   ]
  },
  {
   "cell_type": "code",
   "execution_count": 48,
   "id": "ac824b30",
   "metadata": {},
   "outputs": [
    {
     "name": "stderr",
     "output_type": "stream",
     "text": [
      "C:\\Users\\pmoha\\AppData\\Local\\Temp\\ipykernel_37296\\2273362008.py:3: FutureWarning: \n",
      "\n",
      "The `ci` parameter is deprecated. Use `errorbar=None` for the same effect.\n",
      "\n",
      "  sn.lineplot(x=\"Date\",y=\"Level 3\",data=req,hue=\"Place_in_India\",style=\"Place_in_India\",legend=\"brief\",ci=None)\n"
     ]
    },
    {
     "data": {
      "image/png": "[encoded data removed]",
      "text/plain": [
       "<Figure size 1440x504 with 1 Axes>"
      ]
     },
     "metadata": {
      "needs_background": "light"
     },
     "output_type": "display_data"
    }
   ],
   "source": [
    "#line graph for “Level 3” and “Place_in_India” over the months of the year 2020 and 2021.\n",
    "plt.figure(figsize=(20, 7))\n",
    "sn.lineplot(x=\"Date\",y=\"Level 3\",data=req,hue=\"Place_in_India\",style=\"Place_in_India\",legend=\"brief\",ci=None)\n",
    "plt.show()"
   ]
  },
  {
   "cell_type": "code",
   "execution_count": 50,
   "id": "7dcca213",
   "metadata": {
    "scrolled": true
   },
   "outputs": [
    {
     "name": "stderr",
     "output_type": "stream",
     "text": [
      "C:\\Users\\pmoha\\AppData\\Local\\Temp\\ipykernel_37296\\3445780423.py:4: FutureWarning: \n",
      "\n",
      "The `ci` parameter is deprecated. Use `errorbar=None` for the same effect.\n",
      "\n",
      "  sn.barplot(x=\"Place_in_India\",y=\"Level 1\",data=req1,hue=\"Type_of_Customers?\",ci=None)\n"
     ]
    },
    {
     "data": {
      "image/png": "[encoded data removed]",
      "text/plain": [
       "<Figure size 864x504 with 1 Axes>"
      ]
     },
     "metadata": {
      "needs_background": "light"
     },
     "output_type": "display_data"
    }
   ],
   "source": [
    "#bar graph showing the “Level 1” from various places in India , also, representing the type of customers, for the year 2022\n",
    "req1=df[df[\"Year\"]==2022]\n",
    "plt.figure(figsize=(12, 7))\n",
    "sn.barplot(x=\"Place_in_India\",y=\"Level 1\",data=req1,hue=\"Type_of_Customers?\",ci=None)\n",
    "plt.show()"
   ]
  },
  {
   "cell_type": "markdown",
   "id": "8bfc70ad",
   "metadata": {},
   "source": [
    "insights derived from all the graphs above:-\n",
    "\n",
    "\n",
    "We see that Pune and Indore have the highest level values throughout the years. Dehradun has the least and consistent level values.\n",
    "Also, maximum number of new customers in the year 2022 have come from Pune and then Indore and least from Dehradun.\n",
    "Most customers have visited the website as a direct traffic.\n"
   ]
  },
  {
   "cell_type": "markdown",
   "id": "81e88db0",
   "metadata": {},
   "source": [
    "## Part 6: About the Previous projects"
   ]
  },
  {
   "cell_type": "markdown",
   "id": "b9d354c5",
   "metadata": {},
   "source": [
    "Describe interesting project you did in the Data Science domain in more than 250 words. Attach Github links if possible\n",
    "\n",
    "My final year project that i am currently working on is Detecting Deepfake videos on social networks.We propose a two-stream method by analysing the frame-level and temporality-level of compressed Deepfake videos. Since the video compression brings lots of redundant information to frames, the proposed frame-level stream gradually prunes the network to prevent the model from fitting the compression noise. Focusing on the issue that the  temporal consistency in Deepfake videos may be disregarded, we apply a temporality-level stream to extract temporal correlation features.\n",
    "Also, I did a personal project of extracting textual data articles from the given URL and performing text analysis to compute variables using nltk module.\n",
    "Few other projects related to data analysis(EDA,webscraping)\n",
    "\n",
    "https://github.com/MohanaSahithip/Data-Analysis"
   ]
  },
  {
   "cell_type": "markdown",
   "id": "d4d181ec",
   "metadata": {},
   "source": [
    "## Part 7: Time management"
   ]
  },
  {
   "cell_type": "markdown",
   "id": "ba66e537",
   "metadata": {},
   "source": [
    "Share your thoughts, in less than 120 words, on “If you get selected, how will you manage your time for this full-time internship opportunity”\n",
    "\n",
    "\n",
    "I am currently in my final year of my engineering. Right from this January, our college lets us do a fulltime internship without having to worry about our classes.Hence, it wont be much of an issue for me. Also,this oppurtunity means a lot to me and hence i am ready to dedicate my time and efforts undistracted."
   ]
  }
 ],
 "metadata": {
  "kernelspec": {
   "display_name": "Python 3 (ipykernel)",
   "language": "python",
   "name": "python3"
  },
  "language_info": {
   "codemirror_mode": {
    "name": "ipython",
    "version": 3
   },
   "file_extension": ".py",
   "mimetype": "text/x-python",
   "name": "python",
   "nbconvert_exporter": "python",
   "pygments_lexer": "ipython3",
   "version": "3.10.5"
  }
 },
 "nbformat": 4,
 "nbformat_minor": 5
}
